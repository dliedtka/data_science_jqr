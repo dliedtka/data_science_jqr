{
 "cells": [
  {
   "cell_type": "markdown",
   "id": "8a9c050d",
   "metadata": {},
   "source": [
    "# 3.7.2"
   ]
  },
  {
   "cell_type": "markdown",
   "id": "486431be",
   "metadata": {},
   "source": [
    "## Data"
   ]
  },
  {
   "cell_type": "code",
   "execution_count": 5,
   "id": "9b027630",
   "metadata": {},
   "outputs": [],
   "source": [
    "import random\n",
    "from scipy.stats import norm\n",
    "import numpy as np"
   ]
  },
  {
   "cell_type": "code",
   "execution_count": 6,
   "id": "931154de",
   "metadata": {},
   "outputs": [],
   "source": [
    "def generate_normal_data(seed=42196, size=10000, mean=5000, std_dev=1000):\n",
    "    random.seed(seed)\n",
    "    return [int(mean + norm.ppf(random.random()) * std_dev) for _ in range(size)]"
   ]
  },
  {
   "cell_type": "code",
   "execution_count": 7,
   "id": "dc80c915",
   "metadata": {},
   "outputs": [],
   "source": [
    "data = generate_normal_data()"
   ]
  },
  {
   "cell_type": "markdown",
   "id": "012d5e54",
   "metadata": {},
   "source": [
    "## a. Mean"
   ]
  },
  {
   "cell_type": "code",
   "execution_count": 8,
   "id": "283f9567",
   "metadata": {},
   "outputs": [],
   "source": [
    "def compute_mean(data):\n",
    "    return sum(data) / len(data)"
   ]
  },
  {
   "cell_type": "code",
   "execution_count": 9,
   "id": "0da9c102",
   "metadata": {},
   "outputs": [
    {
     "name": "stdout",
     "output_type": "stream",
     "text": [
      "Mean: 4998.26\n"
     ]
    }
   ],
   "source": [
    "mean = compute_mean(data)\n",
    "\n",
    "print (f\"Mean: {mean:.2f}\")"
   ]
  },
  {
   "cell_type": "markdown",
   "id": "fcf9ab02",
   "metadata": {},
   "source": [
    "## b. Median"
   ]
  },
  {
   "cell_type": "code",
   "execution_count": 10,
   "id": "93f0c009",
   "metadata": {},
   "outputs": [],
   "source": [
    "def compute_median(data):\n",
    "    data.sort()\n",
    "    if len(data) % 2: # odd \n",
    "        return data[len(data) // 2]\n",
    "    else: # even\n",
    "        return (data[len(data) // 2 - 1] + data[len(data) // 2]) / 2."
   ]
  },
  {
   "cell_type": "code",
   "execution_count": 11,
   "id": "512dfb58",
   "metadata": {},
   "outputs": [
    {
     "name": "stdout",
     "output_type": "stream",
     "text": [
      "Median: 5003.00\n"
     ]
    }
   ],
   "source": [
    "median = compute_median(data)\n",
    "print (f\"Median: {median:.2f}\")"
   ]
  },
  {
   "cell_type": "markdown",
   "id": "1305901a",
   "metadata": {},
   "source": [
    "## c. Mode"
   ]
  },
  {
   "cell_type": "code",
   "execution_count": 12,
   "id": "ce85a484",
   "metadata": {},
   "outputs": [],
   "source": [
    "def compute_mode(data):\n",
    "    # map values to counts\n",
    "    counts = {}\n",
    "    for entry in data:\n",
    "        if entry not in counts.keys():\n",
    "            counts[entry] = 1\n",
    "        else:\n",
    "            counts[entry] += 1\n",
    "    \n",
    "    # max occurences\n",
    "    high_count = max(list(counts.values()))\n",
    "    \n",
    "    modes = []\n",
    "    for key in counts.keys():\n",
    "        if counts[key] == high_count:\n",
    "            modes.append(key)\n",
    "            \n",
    "    return modes"
   ]
  },
  {
   "cell_type": "code",
   "execution_count": 13,
   "id": "8062d8db",
   "metadata": {},
   "outputs": [
    {
     "name": "stdout",
     "output_type": "stream",
     "text": [
      "Modes: [5532]\n"
     ]
    }
   ],
   "source": [
    "modes = compute_mode(data)\n",
    "print (f\"Modes: {modes}\")"
   ]
  },
  {
   "cell_type": "markdown",
   "id": "bbbed42e",
   "metadata": {},
   "source": [
    "## d. Quartiles"
   ]
  },
  {
   "cell_type": "markdown",
   "id": "41c6a5f4",
   "metadata": {},
   "source": [
    "Exclude median from upper/lower quartile computation if data length is odd. If even, include respective median contributors with their quartiles."
   ]
  },
  {
   "cell_type": "code",
   "execution_count": 14,
   "id": "5e663726",
   "metadata": {},
   "outputs": [],
   "source": [
    "def compute_quartiles(data):\n",
    "    data.sort()\n",
    "    if len(data) % 2: # odd\n",
    "        exclude = 1\n",
    "    else: # even \n",
    "        exclude = 0\n",
    "    second = compute_median(data)\n",
    "    first = compute_median(data[:len(data)//2])\n",
    "    third = compute_median(data[len(data)//2 + exclude:])\n",
    "    return (first, second, third)"
   ]
  },
  {
   "cell_type": "code",
   "execution_count": 15,
   "id": "5bd4faf9",
   "metadata": {},
   "outputs": [
    {
     "name": "stdout",
     "output_type": "stream",
     "text": [
      "First quartile: 4319.0\n",
      "Second quartile: 5003.0\n",
      "Third quartile: 5675.0\n"
     ]
    }
   ],
   "source": [
    "(first, second, third) = compute_quartiles(data)\n",
    "print (f\"First quartile: {first}\")\n",
    "print (f\"Second quartile: {second}\")\n",
    "print (f\"Third quartile: {third}\")"
   ]
  },
  {
   "cell_type": "markdown",
   "id": "1fbec3d7",
   "metadata": {},
   "source": [
    "## e. Standard Deviation"
   ]
  },
  {
   "cell_type": "markdown",
   "id": "2b59caba",
   "metadata": {},
   "source": [
    "Square root of variance."
   ]
  },
  {
   "cell_type": "code",
   "execution_count": 16,
   "id": "b3ebf86c",
   "metadata": {},
   "outputs": [],
   "source": [
    "def compute_variance(data):\n",
    "    # average of squared differences from mean\n",
    "    mean = compute_mean(data)\n",
    "    return sum([(x - mean) ** 2 for x in data]) / len(data)"
   ]
  },
  {
   "cell_type": "code",
   "execution_count": 17,
   "id": "d008700e",
   "metadata": {},
   "outputs": [],
   "source": [
    "def compute_standard_deviation(data):\n",
    "    return compute_variance(data) ** 0.5"
   ]
  },
  {
   "cell_type": "code",
   "execution_count": 18,
   "id": "2305404d",
   "metadata": {},
   "outputs": [
    {
     "name": "stdout",
     "output_type": "stream",
     "text": [
      "Standard deviation: 1009.00\n"
     ]
    }
   ],
   "source": [
    "std_dev = compute_standard_deviation(data)\n",
    "print (f\"Standard deviation: {std_dev:.2f}\")"
   ]
  },
  {
   "cell_type": "markdown",
   "id": "48daca0a",
   "metadata": {},
   "source": [
    "## f. Variance"
   ]
  },
  {
   "cell_type": "markdown",
   "id": "5671f6aa",
   "metadata": {},
   "source": [
    "Average of squared differences from mean."
   ]
  },
  {
   "cell_type": "code",
   "execution_count": 19,
   "id": "6ae6c70f",
   "metadata": {},
   "outputs": [
    {
     "name": "stdout",
     "output_type": "stream",
     "text": [
      "Variance: 1018083.94\n"
     ]
    }
   ],
   "source": [
    "variance = compute_variance(data)\n",
    "print (f\"Variance: {variance:.2f}\")"
   ]
  },
  {
   "cell_type": "markdown",
   "id": "feb25037",
   "metadata": {},
   "source": [
    "## g. Covariance"
   ]
  },
  {
   "cell_type": "code",
   "execution_count": 20,
   "id": "8199b2fd",
   "metadata": {},
   "outputs": [
    {
     "name": "stdout",
     "output_type": "stream",
     "text": [
      "[[0.09269736 0.00407952]\n",
      " [0.00407952 0.09826989]]\n"
     ]
    }
   ],
   "source": [
    "# sample data\n",
    "np.random.seed(42196)\n",
    "data = np.random.rand(5, 2)\n",
    "\n",
    "covariance_matrix = np.cov(data, rowvar=False)\n",
    "print(covariance_matrix)"
   ]
  },
  {
   "cell_type": "markdown",
   "id": "a7f4c201",
   "metadata": {},
   "source": [
    "Now let's compute manually. "
   ]
  },
  {
   "cell_type": "code",
   "execution_count": 21,
   "id": "7ca521f7",
   "metadata": {},
   "outputs": [],
   "source": [
    "def compute_covariance(data):\n",
    "    # step 1: compute means of each variable\n",
    "    mean_x = compute_mean(data[:,0])\n",
    "    mean_y = compute_mean(data[:,1])\n",
    "    \n",
    "    # step 2: compute deviations from mean for each value\n",
    "    dev_x = data[:,0] - mean_x\n",
    "    dev_y = data[:,1] - mean_y\n",
    "    \n",
    "    # might be missing something here... compare to matrix?\n",
    "    cov = sum(dev_x * dev_y) / (len(data) - 1)\n",
    "    \n",
    "    print(\"Covariance:\", cov)"
   ]
  },
  {
   "cell_type": "code",
   "execution_count": 22,
   "id": "1c96aaeb",
   "metadata": {},
   "outputs": [
    {
     "name": "stdout",
     "output_type": "stream",
     "text": [
      "Covariance: 0.004079516436756522\n"
     ]
    }
   ],
   "source": [
    "compute_covariance(data)"
   ]
  },
  {
   "cell_type": "code",
   "execution_count": null,
   "id": "25eead8e",
   "metadata": {},
   "outputs": [],
   "source": []
  }
 ],
 "metadata": {
  "kernelspec": {
   "display_name": "Python 3 (ipykernel)",
   "language": "python",
   "name": "python3"
  },
  "language_info": {
   "codemirror_mode": {
    "name": "ipython",
    "version": 3
   },
   "file_extension": ".py",
   "mimetype": "text/x-python",
   "name": "python",
   "nbconvert_exporter": "python",
   "pygments_lexer": "ipython3",
   "version": "3.9.1"
  }
 },
 "nbformat": 4,
 "nbformat_minor": 5
}
