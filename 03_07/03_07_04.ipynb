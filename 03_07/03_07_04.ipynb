{
 "cells": [
  {
   "cell_type": "markdown",
   "id": "28f52044",
   "metadata": {},
   "source": [
    "# 3.7.4"
   ]
  },
  {
   "cell_type": "markdown",
   "id": "505d7828",
   "metadata": {},
   "source": [
    "## Data"
   ]
  },
  {
   "cell_type": "code",
   "execution_count": 14,
   "id": "5c373a90",
   "metadata": {},
   "outputs": [],
   "source": [
    "import random\n",
    "from scipy.stats import norm"
   ]
  },
  {
   "cell_type": "code",
   "execution_count": 15,
   "id": "c9208654",
   "metadata": {},
   "outputs": [],
   "source": [
    "def generate_normal_data(seed=42196, size=10000, mean=5000, std_dev=1000):\n",
    "    random.seed(seed)\n",
    "    return [int(mean + norm.ppf(random.random()) * std_dev) for _ in range(size)]"
   ]
  },
  {
   "cell_type": "code",
   "execution_count": 16,
   "id": "eee13839",
   "metadata": {},
   "outputs": [],
   "source": [
    "data = generate_normal_data()"
   ]
  },
  {
   "cell_type": "markdown",
   "id": "2f56eb57",
   "metadata": {},
   "source": [
    "## a. Quartiles"
   ]
  },
  {
   "cell_type": "code",
   "execution_count": 17,
   "id": "93f0c009",
   "metadata": {},
   "outputs": [],
   "source": [
    "def compute_median(data):\n",
    "    data.sort()\n",
    "    if len(data) % 2: # odd \n",
    "        return data[len(data) // 2]\n",
    "    else: # even\n",
    "        return (data[len(data) // 2 - 1] + data[len(data) // 2]) / 2."
   ]
  },
  {
   "cell_type": "code",
   "execution_count": 18,
   "id": "5e663726",
   "metadata": {},
   "outputs": [],
   "source": [
    "def compute_quartiles(data):\n",
    "    data.sort()\n",
    "    if len(data) % 2: # odd\n",
    "        exclude = 1\n",
    "    else: # even \n",
    "        exclude = 0\n",
    "    second = compute_median(data)\n",
    "    first = compute_median(data[:len(data)//2])\n",
    "    # exclude median from upper/lower quartile computation if data length is odd\n",
    "    # if even, include respective median contributors with their quartiles\n",
    "    third = compute_median(data[len(data)//2 + exclude:])\n",
    "    return (first, second, third)"
   ]
  },
  {
   "cell_type": "code",
   "execution_count": 19,
   "id": "5bd4faf9",
   "metadata": {},
   "outputs": [
    {
     "name": "stdout",
     "output_type": "stream",
     "text": [
      "First quartile: 4319.0\n",
      "Second quartile: 5003.0\n",
      "Third quartile: 5675.0\n"
     ]
    }
   ],
   "source": [
    "(first, second, third) = compute_quartiles(data)\n",
    "print (f\"First quartile: {first}\")\n",
    "print (f\"Second quartile: {second}\")\n",
    "print (f\"Third quartile: {third}\")"
   ]
  },
  {
   "cell_type": "markdown",
   "id": "6ae2702a",
   "metadata": {},
   "source": [
    "## b. Empirical Rule"
   ]
  },
  {
   "cell_type": "markdown",
   "id": "2c669d59",
   "metadata": {},
   "source": [
    "Demonstrate that 68% of data falls within one standard deviation of the mean, 95% falls within two, and 99.7% falls within 3."
   ]
  },
  {
   "cell_type": "code",
   "execution_count": 20,
   "id": "283f9567",
   "metadata": {},
   "outputs": [],
   "source": [
    "def compute_mean(data):\n",
    "    return sum(data) / len(data)"
   ]
  },
  {
   "cell_type": "code",
   "execution_count": 21,
   "id": "b3ebf86c",
   "metadata": {},
   "outputs": [],
   "source": [
    "def compute_variance(data):\n",
    "    # average of squared differences from mean\n",
    "    mean = compute_mean(data)\n",
    "    return sum([(x - mean) ** 2 for x in data]) / (len(data) - 1)"
   ]
  },
  {
   "cell_type": "code",
   "execution_count": 22,
   "id": "d008700e",
   "metadata": {},
   "outputs": [],
   "source": [
    "def compute_standard_deviation(data):\n",
    "    return compute_variance(data) ** 0.5"
   ]
  },
  {
   "cell_type": "code",
   "execution_count": 23,
   "id": "e858e2e7",
   "metadata": {},
   "outputs": [],
   "source": [
    "def demonstrate_empirical_rule(data):\n",
    "    mean = compute_mean(data)\n",
    "    std_dev = compute_standard_deviation(data)\n",
    "    \n",
    "    one_sd = 0\n",
    "    two_sd = 0\n",
    "    three_sd = 0\n",
    "    for entry in data:\n",
    "        if entry >= mean:\n",
    "            if entry < mean + std_dev:\n",
    "                one_sd += 1\n",
    "            if entry < mean + 2 * std_dev:\n",
    "                two_sd += 1\n",
    "            if entry < mean + 3 * std_dev:\n",
    "                three_sd += 1\n",
    "        else:\n",
    "            if entry > mean - std_dev:\n",
    "                one_sd += 1\n",
    "            if entry > mean - 2 * std_dev:\n",
    "                two_sd += 1\n",
    "            if entry > mean - 3 * std_dev:\n",
    "                three_sd += 1\n",
    "    \n",
    "    print (f\"{one_sd / len(data) * 100.:.2f}% of the data falls within one standard deviation of the mean.\")\n",
    "    print (f\"{two_sd / len(data) * 100.:.2f}% of the data falls within two standard deviations of the mean.\")\n",
    "    print (f\"{three_sd / len(data) * 100.:.2f}% of the data falls within three standard deviations of the mean.\")"
   ]
  },
  {
   "cell_type": "code",
   "execution_count": 24,
   "id": "36170e0c",
   "metadata": {},
   "outputs": [
    {
     "name": "stdout",
     "output_type": "stream",
     "text": [
      "68.45% of the data falls within one standard deviation of the mean.\n",
      "95.38% of the data falls within two standard deviations of the mean.\n",
      "99.74% of the data falls within three standard deviations of the mean.\n"
     ]
    }
   ],
   "source": [
    "demonstrate_empirical_rule(data)"
   ]
  },
  {
   "cell_type": "markdown",
   "id": "d47def3f",
   "metadata": {},
   "source": [
    "## c. Z-Scores"
   ]
  },
  {
   "cell_type": "code",
   "execution_count": 25,
   "id": "f16e2503",
   "metadata": {},
   "outputs": [],
   "source": [
    "def compute_z_score(value, mean, std_dev):\n",
    "    return (value - mean) / std_dev"
   ]
  },
  {
   "cell_type": "code",
   "execution_count": 26,
   "id": "37e454ed",
   "metadata": {},
   "outputs": [
    {
     "name": "stdout",
     "output_type": "stream",
     "text": [
      "With mean 4998.26 and standard deviation 1009.05:\n",
      "The Z-score for 0 is -4.95342296814005.\n",
      "The Z-score for 1000 is -3.962393674703197.\n",
      "The Z-score for 2000 is -2.9713643812663437.\n",
      "The Z-score for 3000 is -1.9803350878294905.\n",
      "The Z-score for 4000 is -0.9893057943926373.\n",
      "The Z-score for 5000 is 0.0017234990442158136.\n",
      "The Z-score for 6000 is 0.992752792481069.\n",
      "The Z-score for 7000 is 1.9837820859179223.\n",
      "The Z-score for 8000 is 2.9748113793547755.\n",
      "The Z-score for 9000 is 3.9658406727916287.\n",
      "The Z-score for 10000 is 4.956869966228481.\n"
     ]
    }
   ],
   "source": [
    "mean = compute_mean(data)\n",
    "std_dev = compute_standard_deviation(data)\n",
    "\n",
    "print (f\"With mean {mean:.2f} and standard deviation {std_dev:.2f}:\")\n",
    "for value in range(0, 10001, 1000):\n",
    "    print (f\"The Z-score for {value} is {compute_z_score(value, mean, std_dev)}.\")"
   ]
  },
  {
   "cell_type": "markdown",
   "id": "30828f8d",
   "metadata": {},
   "source": [
    "## d. Confidence Intervals"
   ]
  },
  {
   "cell_type": "code",
   "execution_count": 31,
   "id": "75330140",
   "metadata": {},
   "outputs": [],
   "source": [
    "def compute_confidence_interval(sample_mean, sample_std_dev, sample_size, confidence_level=.95):\n",
    "    # compute standard deviations on each side of our sample mean\n",
    "    critical_value = norm.ppf((confidence_level + 1) / 2)\n",
    "    margin_of_error = critical_value * sample_std_dev / (sample_size ** 2)\n",
    "    print (f\"With {confidence_level}% confidence, the mean is within the interval {sample_mean - margin_of_error} to {sample_mean + margin_of_error}.\")"
   ]
  },
  {
   "cell_type": "code",
   "execution_count": 33,
   "id": "623d06fb",
   "metadata": {},
   "outputs": [
    {
     "name": "stdout",
     "output_type": "stream",
     "text": [
      "With 0.95% confidence, the mean is within the interval 4998.260880222946 to 4998.260919777054.\n"
     ]
    }
   ],
   "source": [
    "compute_confidence_interval(mean, std_dev, len(data))"
   ]
  },
  {
   "cell_type": "code",
   "execution_count": null,
   "id": "01468ce6",
   "metadata": {},
   "outputs": [],
   "source": []
  }
 ],
 "metadata": {
  "kernelspec": {
   "display_name": "Python 3 (ipykernel)",
   "language": "python",
   "name": "python3"
  },
  "language_info": {
   "codemirror_mode": {
    "name": "ipython",
    "version": 3
   },
   "file_extension": ".py",
   "mimetype": "text/x-python",
   "name": "python",
   "nbconvert_exporter": "python",
   "pygments_lexer": "ipython3",
   "version": "3.9.1"
  }
 },
 "nbformat": 4,
 "nbformat_minor": 5
}
