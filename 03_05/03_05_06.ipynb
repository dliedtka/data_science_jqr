{
 "cells": [
  {
   "cell_type": "markdown",
   "id": "cbfa1289",
   "metadata": {},
   "source": [
    "# 3.5.6"
   ]
  },
  {
   "cell_type": "markdown",
   "id": "2436b37d",
   "metadata": {},
   "source": [
    "## Generate Data"
   ]
  },
  {
   "cell_type": "markdown",
   "id": "e1f9c8ea",
   "metadata": {},
   "source": [
    "One normally distributed dataset and one uniformly distributed."
   ]
  },
  {
   "cell_type": "code",
   "execution_count": 1,
   "id": "df892e5a",
   "metadata": {},
   "outputs": [],
   "source": [
    "import random\n",
    "from scipy.stats import norm"
   ]
  },
  {
   "cell_type": "code",
   "execution_count": 2,
   "id": "1689e271",
   "metadata": {},
   "outputs": [],
   "source": [
    "def generate_uniform_data(seed=42196, size=10000, min_val=0, max_val=10000):\n",
    "    random.seed(seed)\n",
    "    return [int((random.random() * (max_val - min_val)) + min_val) for _ in range(size)]"
   ]
  },
  {
   "cell_type": "code",
   "execution_count": 3,
   "id": "7d39ed88",
   "metadata": {},
   "outputs": [],
   "source": [
    "def generate_normal_data(seed=42196, size=10000, mean=5000, std_dev=1000):\n",
    "    random.seed(seed)\n",
    "    return [int(mean + norm.ppf(random.random()) * std_dev) for _ in range(size)]"
   ]
  },
  {
   "cell_type": "code",
   "execution_count": 4,
   "id": "fb22fbcb",
   "metadata": {},
   "outputs": [],
   "source": [
    "uniform_data = generate_uniform_data()\n",
    "normal_data = generate_normal_data()"
   ]
  },
  {
   "cell_type": "markdown",
   "id": "98fab275",
   "metadata": {},
   "source": [
    "## Compute Means"
   ]
  },
  {
   "cell_type": "code",
   "execution_count": 5,
   "id": "a1f818a8",
   "metadata": {},
   "outputs": [],
   "source": [
    "def compute_mean(data):\n",
    "    return sum(data) / len(data)"
   ]
  },
  {
   "cell_type": "code",
   "execution_count": 6,
   "id": "7839239d",
   "metadata": {},
   "outputs": [
    {
     "name": "stdout",
     "output_type": "stream",
     "text": [
      "Uniform mean: 4993.32\n",
      "Normal mean: 4998.26\n"
     ]
    }
   ],
   "source": [
    "uniform_mean = compute_mean(uniform_data)\n",
    "normal_mean = compute_mean(normal_data)\n",
    "\n",
    "print (f\"Uniform mean: {uniform_mean:.2f}\")\n",
    "print (f\"Normal mean: {normal_mean:.2f}\")"
   ]
  },
  {
   "cell_type": "markdown",
   "id": "e769e252",
   "metadata": {},
   "source": [
    "## Show Distributions"
   ]
  },
  {
   "cell_type": "code",
   "execution_count": 7,
   "id": "c2273033",
   "metadata": {},
   "outputs": [],
   "source": [
    "def compute_histogram(data, bucket_size=100, min_val=None, max_val=None):\n",
    "    if min_val is None:\n",
    "        min_val = min(data)\n",
    "    if max_val is None:\n",
    "        max_val = max(data)\n",
    "        \n",
    "    # buckets labeled by min val\n",
    "    num_buckets = (max_val - min_val) // bucket_size\n",
    "    buckets = [min_val + i * bucket_size for i in range(num_buckets)]\n",
    "    \n",
    "    counts = []\n",
    "    for _ in range(num_buckets):\n",
    "        counts.append(0)\n",
    "    for entry in data:\n",
    "        counts[(entry - min_val) // bucket_size] += 1\n",
    "    \n",
    "    return (buckets, counts)"
   ]
  },
  {
   "cell_type": "code",
   "execution_count": 8,
   "id": "94ee742d",
   "metadata": {},
   "outputs": [],
   "source": [
    "uniform_histogram = compute_histogram(uniform_data, min_val=0, max_val=10000)\n",
    "normal_histogram = compute_histogram(normal_data, min_val=0, max_val=10000)"
   ]
  },
  {
   "cell_type": "markdown",
   "id": "fd9101ce",
   "metadata": {},
   "source": [
    "### Plot"
   ]
  },
  {
   "cell_type": "code",
   "execution_count": 9,
   "id": "3d69b4e1",
   "metadata": {},
   "outputs": [],
   "source": [
    "import matplotlib.pyplot as plt\n",
    "%matplotlib inline "
   ]
  },
  {
   "cell_type": "code",
   "execution_count": 30,
   "id": "5ede62f8",
   "metadata": {},
   "outputs": [
    {
     "data": {
      "image/png": "[encoded data removed]",
      "text/plain": [
       "<Figure size 432x288 with 1 Axes>"
      ]
     },
     "metadata": {
      "needs_background": "light"
     },
     "output_type": "display_data"
    }
   ],
   "source": [
    "# uniform \n",
    "plt.plot(uniform_histogram[0], uniform_histogram[1], 'g.')\n",
    "plt.title('Uniformly Distributed Dataset Manual Histogram')  \n",
    "plt.xlabel('Value')\n",
    "plt.ylabel('Count')\n",
    "plt.xlim(0, 10000)\n",
    "plt.ylim(0, 500)\n",
    "plt.show()"
   ]
  },
  {
   "cell_type": "code",
   "execution_count": 28,
   "id": "ce0addf6",
   "metadata": {},
   "outputs": [
    {
     "data": {
      "image/png": "[encoded data removed]",
      "text/plain": [
       "<Figure size 432x288 with 1 Axes>"
      ]
     },
     "metadata": {
      "needs_background": "light"
     },
     "output_type": "display_data"
    }
   ],
   "source": [
    "# uniform \n",
    "plt.hist(uniform_data, bins=100)\n",
    "plt.title('Uniformly Distributed Dataset')  \n",
    "plt.xlabel('Value')\n",
    "plt.ylabel('Count')\n",
    "plt.xlim(0, 10000)\n",
    "plt.ylim(0, 500)\n",
    "plt.show()"
   ]
  },
  {
   "cell_type": "code",
   "execution_count": 32,
   "id": "6f3ccd06",
   "metadata": {},
   "outputs": [
    {
     "data": {
      "image/png": "[encoded data removed]",
      "text/plain": [
       "<Figure size 432x288 with 1 Axes>"
      ]
     },
     "metadata": {
      "needs_background": "light"
     },
     "output_type": "display_data"
    }
   ],
   "source": [
    "# normal \n",
    "plt.plot(normal_histogram[0], normal_histogram[1], 'g.')\n",
    "plt.title('Normally Distributed Dataset Manual Histogram')  \n",
    "plt.xlabel('Value')\n",
    "plt.ylabel('Count')\n",
    "plt.xlim(0, 10000)\n",
    "plt.ylim(0, 500)\n",
    "plt.show()"
   ]
  },
  {
   "cell_type": "code",
   "execution_count": 33,
   "id": "c80bd4f2",
   "metadata": {},
   "outputs": [
    {
     "data": {
      "image/png": "[encoded data removed]",
      "text/plain": [
       "<Figure size 432x288 with 1 Axes>"
      ]
     },
     "metadata": {
      "needs_background": "light"
     },
     "output_type": "display_data"
    }
   ],
   "source": [
    "# uniform \n",
    "plt.hist(normal_data, bins=100)\n",
    "plt.title('Normally Distributed Dataset')  \n",
    "plt.xlabel('Value')\n",
    "plt.ylabel('Count')\n",
    "plt.xlim(0, 10000)\n",
    "plt.ylim(0, 500)\n",
    "plt.show()"
   ]
  },
  {
   "cell_type": "code",
   "execution_count": null,
   "id": "13649469",
   "metadata": {},
   "outputs": [],
   "source": []
  }
 ],
 "metadata": {
  "kernelspec": {
   "display_name": "Python 3 (ipykernel)",
   "language": "python",
   "name": "python3"
  },
  "language_info": {
   "codemirror_mode": {
    "name": "ipython",
    "version": 3
   },
   "file_extension": ".py",
   "mimetype": "text/x-python",
   "name": "python",
   "nbconvert_exporter": "python",
   "pygments_lexer": "ipython3",
   "version": "3.9.1"
  }
 },
 "nbformat": 4,
 "nbformat_minor": 5
}
