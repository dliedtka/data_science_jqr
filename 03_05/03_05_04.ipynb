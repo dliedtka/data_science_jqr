{
 "cells": [
  {
   "cell_type": "markdown",
   "id": "c514022b",
   "metadata": {},
   "source": [
    "# 3.5.4"
   ]
  },
  {
   "cell_type": "markdown",
   "id": "d6d39f94",
   "metadata": {},
   "source": [
    "## Pearson Correlation"
   ]
  },
  {
   "cell_type": "markdown",
   "id": "48b34ecf",
   "metadata": {},
   "source": [
    "### Sample Data"
   ]
  },
  {
   "cell_type": "code",
   "execution_count": 1,
   "id": "896207b9",
   "metadata": {},
   "outputs": [],
   "source": [
    "import numpy as np"
   ]
  },
  {
   "cell_type": "markdown",
   "id": "cfc71167",
   "metadata": {},
   "source": [
    "For correlation examples, generate a rough male height/weight/BMI/minutes exercised per day dataset."
   ]
  },
  {
   "cell_type": "code",
   "execution_count": 18,
   "id": "96420b1b",
   "metadata": {},
   "outputs": [],
   "source": [
    "np.random.seed(42196)\n",
    "\n",
    "# height of people in inches\n",
    "heights = np.random.normal(69, 3, 100)\n",
    "\n",
    "# weight in pounds, should be positively correlated with height\n",
    "weights = heights * 3 + np.random.normal(0, 30, 100)\n",
    "\n",
    "# BMI: temporary rough calculation weight/height, should have no correlation with height\n",
    "bmi = weights / heights\n",
    "\n",
    "# minutes exercise per day, should be negatively correlated with BMI\n",
    "exercise = 1 / bmi * 100 + np.random.normal(0, 15, 100)"
   ]
  },
  {
   "cell_type": "markdown",
   "id": "5b11477e",
   "metadata": {},
   "source": [
    "### Compute"
   ]
  },
  {
   "cell_type": "markdown",
   "id": "20a3a198",
   "metadata": {},
   "source": [
    "Formula (for a sample): \n",
    "\n",
    "$$\\rho = \\frac{\\sum (x_i - \\bar{x})(y_i - \\bar{y})} {\\sqrt{\\sum (x_i - \\bar{x})^2 \\sum (y_i - \\bar{y})^2}} $$\n",
    "\n",
    "Where $\\bar{x}$ is the mean of variable $X$ and $\\bar{y}$ is the mean of variable $Y$."
   ]
  },
  {
   "cell_type": "code",
   "execution_count": 19,
   "id": "f9376443",
   "metadata": {},
   "outputs": [],
   "source": [
    "def compute_pearson(x, y):\n",
    "    x_hat = np.mean(x)\n",
    "    y_hat = np.mean(y)\n",
    "    return np.sum((x - x_hat) * (y - y_hat)) / (np.sum((x - x_hat) ** 2) * np.sum((y - y_hat) ** 2)) ** 0.5"
   ]
  },
  {
   "cell_type": "markdown",
   "id": "6a348c3c",
   "metadata": {},
   "source": [
    "Now check for our different variable combinations."
   ]
  },
  {
   "cell_type": "code",
   "execution_count": 20,
   "id": "db5033bf",
   "metadata": {},
   "outputs": [
    {
     "name": "stdout",
     "output_type": "stream",
     "text": [
      "Height-Weight correlation: 0.235\n",
      "Height-BMI correlation: -0.040\n",
      "BMI-Exercise correlation: -0.312\n"
     ]
    }
   ],
   "source": [
    "print (f\"Height-Weight correlation: {compute_pearson(heights, weights):.3f}\")\n",
    "print (f\"Height-BMI correlation: {compute_pearson(heights, bmi):.3f}\")\n",
    "print (f\"BMI-Exercise correlation: {compute_pearson(bmi, exercise):.3f}\")"
   ]
  },
  {
   "cell_type": "markdown",
   "id": "f07ddc16",
   "metadata": {},
   "source": [
    "Our height-weight and BMI-exercise correlations are not particularly strong, but we can make them stronger by reducing the variation (e.g.- switch to `np.random.normal(0, 10, 100)` for weights)."
   ]
  },
  {
   "cell_type": "markdown",
   "id": "c99a3878",
   "metadata": {},
   "source": [
    "## Spearman Rank Correlation"
   ]
  },
  {
   "cell_type": "markdown",
   "id": "309b329f",
   "metadata": {},
   "source": [
    "### Sample Data"
   ]
  },
  {
   "cell_type": "code",
   "execution_count": 22,
   "id": "eedbc8ac",
   "metadata": {},
   "outputs": [],
   "source": [
    "# using fictitious wikipedia example of hours of tv watched vs. iq, which should have a strong spearman rank correlation\n",
    "iq = [106, 100, 86, 101, 99, 103, 97, 113, 112, 110]\n",
    "hours_tv = [7, 27, 2, 50, 28, 29, 20, 12, 6, 17]\n",
    "# adding my own column for something that should have a weak rank correlation, such as height\n",
    "height = [71, 65, 68, 61, 73, 70, 64, 66, 63, 69]"
   ]
  },
  {
   "cell_type": "markdown",
   "id": "2c660abd",
   "metadata": {},
   "source": [
    "### Compute"
   ]
  },
  {
   "cell_type": "markdown",
   "id": "16d29721",
   "metadata": {},
   "source": [
    "Formula (when all values are distinct integers):\n",
    "\n",
    "$$ \\rho = 1 - \\frac {6 \\sum d_i^2} {n (n^2 - 1)} $$\n",
    "\n",
    "Where $d_i$ is the rank difference between variables for the same datapoint."
   ]
  },
  {
   "cell_type": "code",
   "execution_count": 23,
   "id": "ca3bd7b0",
   "metadata": {},
   "outputs": [],
   "source": [
    "def compute_rank(data):\n",
    "    val_mapping = {}\n",
    "    for i, val in enumerate(data):\n",
    "        if val not in val_mapping:\n",
    "            val_mapping[val] = [i]\n",
    "        else:\n",
    "            val_mapping[val].append(i)\n",
    "\n",
    "    data_copy = data[:]\n",
    "    data_copy.sort()\n",
    "    \n",
    "    # need to look up what happens for ties, giving ties all highest rank for now\n",
    "    rank = []\n",
    "    for val in data:\n",
    "        rank.append(0)\n",
    "    counter = 0\n",
    "    for val in data_copy:\n",
    "        counter += len(val_mapping[val])\n",
    "        for idx in val_mapping[val]:\n",
    "            rank[idx] = counter\n",
    "            \n",
    "    return rank"
   ]
  },
  {
   "cell_type": "code",
   "execution_count": 24,
   "id": "7969b396",
   "metadata": {},
   "outputs": [],
   "source": [
    "def compute_spearman(x, y):\n",
    "    # compute ranks\n",
    "    rank_x = compute_rank(x)\n",
    "    rank_y = compute_rank(y)\n",
    "    \n",
    "    # compute differences in ranks\n",
    "    diff_ranks = [rank_x[i] - rank_y[i] for i in range(len(rank_x))]\n",
    "    \n",
    "    # square each difference\n",
    "    squared_diffs = [val ** 2 for val in diff_ranks]\n",
    "    \n",
    "    # sum squared differences\n",
    "    val = sum(squared_diffs)\n",
    "    \n",
    "    # compute coefficient with formua: rho = 1 - (6 * sum(d_i^2)) / (n * (n^2 - 1))\n",
    "    rho = 1 - (6 * val) / (len(rank_x) * (len(rank_x) ** 2 - 1))\n",
    "    \n",
    "    return rho"
   ]
  },
  {
   "cell_type": "markdown",
   "id": "eb99982f",
   "metadata": {},
   "source": [
    "Compute for our sample data."
   ]
  },
  {
   "cell_type": "code",
   "execution_count": 27,
   "id": "0c8ad3fa",
   "metadata": {},
   "outputs": [
    {
     "name": "stdout",
     "output_type": "stream",
     "text": [
      "-0.17575757575757578\n",
      "-0.030303030303030276\n"
     ]
    }
   ],
   "source": [
    "print (compute_spearman(iq, hours_tv))\n",
    "print (compute_spearman(hours_tv, height))"
   ]
  },
  {
   "cell_type": "code",
   "execution_count": null,
   "id": "fc43e2a3",
   "metadata": {},
   "outputs": [],
   "source": []
  }
 ],
 "metadata": {
  "kernelspec": {
   "display_name": "Python 3 (ipykernel)",
   "language": "python",
   "name": "python3"
  },
  "language_info": {
   "codemirror_mode": {
    "name": "ipython",
    "version": 3
   },
   "file_extension": ".py",
   "mimetype": "text/x-python",
   "name": "python",
   "nbconvert_exporter": "python",
   "pygments_lexer": "ipython3",
   "version": "3.9.1"
  }
 },
 "nbformat": 4,
 "nbformat_minor": 5
}
