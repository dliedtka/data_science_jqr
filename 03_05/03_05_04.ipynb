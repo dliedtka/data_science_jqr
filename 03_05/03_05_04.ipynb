{
 "cells": [
  {
   "cell_type": "markdown",
   "id": "c514022b",
   "metadata": {},
   "source": [
    "# 3.5.4"
   ]
  },
  {
   "cell_type": "markdown",
   "id": "d6d39f94",
   "metadata": {},
   "source": [
    "## Pearson Correlation"
   ]
  },
  {
   "cell_type": "markdown",
   "id": "48b34ecf",
   "metadata": {},
   "source": [
    "### Sample Data"
   ]
  },
  {
   "cell_type": "code",
   "execution_count": 5,
   "id": "896207b9",
   "metadata": {},
   "outputs": [],
   "source": [
    "import numpy as np"
   ]
  },
  {
   "cell_type": "markdown",
   "id": "cfc71167",
   "metadata": {},
   "source": [
    "For correlation examples, generate a rough male height/weight/BMI/minutes exercised per day dataset."
   ]
  },
  {
   "cell_type": "code",
   "execution_count": 26,
   "id": "96420b1b",
   "metadata": {},
   "outputs": [],
   "source": [
    "np.random.seed(42196)\n",
    "\n",
    "# height of people in inches\n",
    "heights = np.random.normal(69, 3, 100)\n",
    "\n",
    "# weight in pounds, should be positively correlated with height\n",
    "weights = heights * 3 + np.random.normal(0, 30, 100)\n",
    "\n",
    "# BMI: temporary rough calculation weight/height, should have no correlation with height\n",
    "bmi = weights / heights\n",
    "\n",
    "# minutes exercise per day, should be negatively correlated with BMI\n",
    "exercise = 1 / bmi * 100 + np.random.normal(0, 15, 100)"
   ]
  },
  {
   "cell_type": "markdown",
   "id": "5b11477e",
   "metadata": {},
   "source": [
    "### Compute"
   ]
  },
  {
   "cell_type": "markdown",
   "id": "20a3a198",
   "metadata": {},
   "source": [
    "Formula: \n",
    "\n",
    "$$\\rho = \\sum[(X - X̄)(Y - Ȳ)] / [(n-1) * S_x * S_y]$$\n",
    "\n",
    "Where $X̄$ is the mean of variable $X$, $Y$ is the mean of variable $Y$, and $S_x$ and $S_y$ are the respective variable standard deviations."
   ]
  },
  {
   "cell_type": "code",
   "execution_count": 27,
   "id": "f9376443",
   "metadata": {},
   "outputs": [],
   "source": [
    "def compute_pearson(var_1, var_2):\n",
    "    return np.sum((var_1 - np.mean(var_1)) * (var_2 - np.mean(var_2))) / ((var_1.shape[0] - 1) * np.std(var_1) * np.std(var_2))"
   ]
  },
  {
   "cell_type": "markdown",
   "id": "6a348c3c",
   "metadata": {},
   "source": [
    "Now check for our different variable combinations."
   ]
  },
  {
   "cell_type": "code",
   "execution_count": 28,
   "id": "db5033bf",
   "metadata": {},
   "outputs": [
    {
     "name": "stdout",
     "output_type": "stream",
     "text": [
      "Height-Weight correlation: 0.238\n",
      "Height-BMI correlation: -0.040\n",
      "BMI-Exercise correlation: -0.315\n"
     ]
    }
   ],
   "source": [
    "print (f\"Height-Weight correlation: {compute_pearson(heights, weights):.3f}\")\n",
    "print (f\"Height-BMI correlation: {compute_pearson(heights, bmi):.3f}\")\n",
    "print (f\"BMI-Exercise correlation: {compute_pearson(bmi, exercise):.3f}\")"
   ]
  },
  {
   "cell_type": "markdown",
   "id": "c99a3878",
   "metadata": {},
   "source": [
    "## Spearman Rank Correlation"
   ]
  },
  {
   "cell_type": "markdown",
   "id": "309b329f",
   "metadata": {},
   "source": [
    "### Data"
   ]
  },
  {
   "cell_type": "code",
   "execution_count": 29,
   "id": "eedbc8ac",
   "metadata": {},
   "outputs": [],
   "source": [
    "X = [10, 20, 30, 40, 50]\n",
    "Y = [5, 10, 20, 30, 40]"
   ]
  },
  {
   "cell_type": "markdown",
   "id": "2c660abd",
   "metadata": {},
   "source": [
    "### Compute"
   ]
  },
  {
   "cell_type": "code",
   "execution_count": 53,
   "id": "ca3bd7b0",
   "metadata": {},
   "outputs": [],
   "source": [
    "def compute_rank(data):\n",
    "    val_mapping = {}\n",
    "    for i, val in enumerate(data):\n",
    "        if val not in val_mapping:\n",
    "            val_mapping[val] = [i]\n",
    "        else:\n",
    "            val_mapping[val].append(i)\n",
    "\n",
    "    data_copy = data[:]\n",
    "    data_copy.sort()\n",
    "    \n",
    "    # need to look up what happens for ties, giving ties all highest rank for now\n",
    "    rank = []\n",
    "    for val in data:\n",
    "        rank.append(0)\n",
    "    counter = 0\n",
    "    for val in data_copy:\n",
    "        counter += len(val_mapping[val])\n",
    "        for idx in val_mapping[val]:\n",
    "            rank[idx] = counter\n",
    "            \n",
    "    return rank"
   ]
  },
  {
   "cell_type": "code",
   "execution_count": 57,
   "id": "7969b396",
   "metadata": {},
   "outputs": [],
   "source": [
    "def compute_spearman(x, y):\n",
    "    # compute ranks\n",
    "    rank_x = compute_rank(x)\n",
    "    rank_y = compute_rank(y)\n",
    "    \n",
    "    # compute differences in ranks\n",
    "    diff_ranks = [rank_x[i] - rank_y[i] for i in range(len(rank_x))]\n",
    "    \n",
    "    # square each difference\n",
    "    squared_diffs = [val ** 2 for val in diff_ranks]\n",
    "    \n",
    "    # sum squared differences\n",
    "    val = sum(squared_diffs)\n",
    "    \n",
    "    # compute coefficient with formua: rho = 1 - (6 * sum(d_i^2)) / (n * (n^2 - 1))\n",
    "    rho = 1 - (6 * val) / (len(rank_x) * (len(rank_x) ** 2 - 1))\n",
    "    \n",
    "    return rho"
   ]
  },
  {
   "cell_type": "markdown",
   "id": "eb99982f",
   "metadata": {},
   "source": [
    "Compute for our sample data."
   ]
  },
  {
   "cell_type": "code",
   "execution_count": 60,
   "id": "0c8ad3fa",
   "metadata": {},
   "outputs": [
    {
     "name": "stdout",
     "output_type": "stream",
     "text": [
      "1.0\n"
     ]
    }
   ],
   "source": [
    "print (compute_spearman(X, Y))"
   ]
  },
  {
   "cell_type": "markdown",
   "id": "a15bce1b",
   "metadata": {},
   "source": [
    "Next let's do this with some real life data."
   ]
  },
  {
   "cell_type": "code",
   "execution_count": null,
   "id": "b973610e",
   "metadata": {},
   "outputs": [],
   "source": []
  }
 ],
 "metadata": {
  "kernelspec": {
   "display_name": "Python 3 (ipykernel)",
   "language": "python",
   "name": "python3"
  },
  "language_info": {
   "codemirror_mode": {
    "name": "ipython",
    "version": 3
   },
   "file_extension": ".py",
   "mimetype": "text/x-python",
   "name": "python",
   "nbconvert_exporter": "python",
   "pygments_lexer": "ipython3",
   "version": "3.9.1"
  }
 },
 "nbformat": 4,
 "nbformat_minor": 5
}
