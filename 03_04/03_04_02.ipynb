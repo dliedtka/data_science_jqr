{
 "cells": [
  {
   "cell_type": "markdown",
   "id": "6532c7fc",
   "metadata": {},
   "source": [
    "# 3.4.2"
   ]
  },
  {
   "cell_type": "markdown",
   "id": "80629847",
   "metadata": {},
   "source": [
    "## Normalize data"
   ]
  },
  {
   "cell_type": "markdown",
   "id": "fd73fb97",
   "metadata": {},
   "source": [
    "No imports allowed, just using built utilities to get random data, keep track of time."
   ]
  },
  {
   "cell_type": "code",
   "execution_count": 1,
   "id": "568b09fe",
   "metadata": {},
   "outputs": [],
   "source": [
    "from utils import random_data, start_time, elapsed_time"
   ]
  },
  {
   "cell_type": "markdown",
   "id": "58326bd8",
   "metadata": {},
   "source": [
    "Functions to normalize data (sample feature minus feature mean divided by feature standard deviation). Would be much faster to use built-in functionality from libraries like numpy, but implementing on own for purpose of JQR."
   ]
  },
  {
   "cell_type": "code",
   "execution_count": 2,
   "id": "e8494821",
   "metadata": {},
   "outputs": [],
   "source": [
    "def compute_means(data: list[list[int]], num_samples: int, num_features: int) -> list[float]:\n",
    "    '''\n",
    "    '''\n",
    "    means = []\n",
    "    for feat in range(num_features):\n",
    "        means.append(sum([data[i][feat] for i in range(num_samples)]) / num_samples)\n",
    "    return means"
   ]
  },
  {
   "cell_type": "code",
   "execution_count": 3,
   "id": "7979a0b3",
   "metadata": {},
   "outputs": [],
   "source": [
    "def compute_standard_deviations(data: list[list[int]], means: list[float], num_samples: int, num_features: int\n",
    "                               ) -> list[float]:\n",
    "    '''\n",
    "    Feature standard deviation computed as square root of sum of squared feature distances from feature mean.\n",
    "    '''\n",
    "    s_devs = [] \n",
    "    for feat in range(num_features):\n",
    "        s_devs.append((sum([(data[i][feat] - means[feat]) ** 2 for i in range(num_samples)]) / num_samples) ** 0.5)\n",
    "    return s_devs"
   ]
  },
  {
   "cell_type": "code",
   "execution_count": 4,
   "id": "55d00b13",
   "metadata": {},
   "outputs": [],
   "source": [
    "def normalize(data: list[list[int]]) -> list[list[float]]:\n",
    "    '''\n",
    "    @param data Assumes a num_samples x num_features matrix of integers.\n",
    "    '''\n",
    "    num_samples = len(data)\n",
    "    num_features = len(data[0])\n",
    "    \n",
    "    # compute mean for each feature\n",
    "    means = compute_means(data, num_samples, num_features)\n",
    "    \n",
    "    # compute standard deviation for each feature\n",
    "    s_devs = compute_standard_deviations(data, means, num_samples, num_features)\n",
    "\n",
    "    # normalize each feature for each sample\n",
    "    for i in range(num_samples):\n",
    "        for feat in range(num_features):\n",
    "            data[i][feat] = (data[i][feat] - means[feat]) / s_devs[feat]\n",
    "    return data"
   ]
  },
  {
   "cell_type": "markdown",
   "id": "10b466fe",
   "metadata": {},
   "source": [
    "Visually inspect results with a small dataset."
   ]
  },
  {
   "cell_type": "code",
   "execution_count": 6,
   "id": "bfb1ae8d",
   "metadata": {},
   "outputs": [
    {
     "name": "stdout",
     "output_type": "stream",
     "text": [
      "0.00 seconds to generate data.\n",
      "\n",
      "[-18, 81, -26]\n",
      "[-42, 57, -37]\n",
      "[-8, 92, -24]\n",
      "[-26, 75, 10]\n",
      "\n",
      "[0.44212732908197744, 0.3747162805875646, -0.3835676173160103]\n",
      "[-1.4871555614575604, -1.518587031854867, -1.0086407714606196]\n",
      "[1.2459952001401182, 1.2424802987903458, -0.2699179529260813]\n",
      "[-0.2009669677645352, -0.09860954752304332, 1.6621263417027112]\n",
      "\n",
      "0.00 seconds to normalize data.\n"
     ]
    }
   ],
   "source": [
    "# generate 4x3 matrix\n",
    "st = start_time()\n",
    "data = random_data(num_features=3, num_samples=4, seeded=True)\n",
    "et = elapsed_time(st)\n",
    "print (f\"{et:.2f} seconds to generate data.\")\n",
    "print (\"\")\n",
    "\n",
    "# print data before normalization\n",
    "for sample in data:\n",
    "    print (sample)\n",
    "print (\"\")\n",
    "    \n",
    "# normalize\n",
    "st = start_time()\n",
    "data = normalize(data)\n",
    "et = elapsed_time(st)\n",
    "    \n",
    "# print data after normalization\n",
    "for sample in data:\n",
    "    print (sample)\n",
    "print (\"\")    \n",
    "print (f\"{et:.2f} seconds to normalize data.\")"
   ]
  },
  {
   "cell_type": "markdown",
   "id": "c77eb0c2",
   "metadata": {},
   "source": [
    "See how long a larger dataset takes (obviously this is not going to be efficient, numpy built-in funcitionality would be much faster)."
   ]
  },
  {
   "cell_type": "code",
   "execution_count": 7,
   "id": "be37355c",
   "metadata": {},
   "outputs": [
    {
     "name": "stdout",
     "output_type": "stream",
     "text": [
      "114.44 seconds to generate data.\n",
      "69.75 seconds to normalize data.\n"
     ]
    }
   ],
   "source": [
    "# generate 1,000,000x100 matrix\n",
    "st = start_time()\n",
    "data = random_data(num_features=100, num_samples=1000000, seeded=True)\n",
    "et = elapsed_time(st)\n",
    "print (f\"{et:.2f} seconds to generate data.\")\n",
    "\n",
    "# normalize\n",
    "st = start_time()\n",
    "data = normalize(data)\n",
    "et = elapsed_time(st)\n",
    "print (f\"{et:.2f} seconds to normalize data.\")"
   ]
  },
  {
   "cell_type": "code",
   "execution_count": null,
   "id": "0d639480",
   "metadata": {},
   "outputs": [],
   "source": []
  }
 ],
 "metadata": {
  "kernelspec": {
   "display_name": "Python 3 (ipykernel)",
   "language": "python",
   "name": "python3"
  },
  "language_info": {
   "codemirror_mode": {
    "name": "ipython",
    "version": 3
   },
   "file_extension": ".py",
   "mimetype": "text/x-python",
   "name": "python",
   "nbconvert_exporter": "python",
   "pygments_lexer": "ipython3",
   "version": "3.9.1"
  }
 },
 "nbformat": 4,
 "nbformat_minor": 5
}
