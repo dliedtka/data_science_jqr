{
 "cells": [
  {
   "cell_type": "code",
   "execution_count": 4,
   "id": "9da005de",
   "metadata": {},
   "outputs": [],
   "source": [
    "import random"
   ]
  },
  {
   "cell_type": "code",
   "execution_count": 5,
   "id": "b9c94fac",
   "metadata": {},
   "outputs": [],
   "source": [
    "def print_data(data):\n",
    "    for sample in data:\n",
    "        print (sample)"
   ]
  },
  {
   "cell_type": "markdown",
   "id": "347ad5c9",
   "metadata": {},
   "source": [
    "## Missing Values"
   ]
  },
  {
   "cell_type": "code",
   "execution_count": 6,
   "id": "05320826",
   "metadata": {},
   "outputs": [],
   "source": [
    "def generate_missing_data(num_features: int, num_samples: int, prob_missing=0.1) -> list[list[int]]:\n",
    "    data = []\n",
    "    for sample in range(num_samples):\n",
    "        sample_data = []\n",
    "        for feat in range(num_features):\n",
    "            if random.random() < prob_missing:\n",
    "                sample_data.append(None)\n",
    "            else:\n",
    "                sample_data.append(random.randint(0,9) * 2 ** feat)\n",
    "        data.append(sample_data)\n",
    "    return data"
   ]
  },
  {
   "cell_type": "markdown",
   "id": "55257714",
   "metadata": {},
   "source": [
    "Omission"
   ]
  },
  {
   "cell_type": "code",
   "execution_count": 10,
   "id": "fef8d980",
   "metadata": {},
   "outputs": [],
   "source": [
    "def omit_missing(data):\n",
    "    new_data = []\n",
    "    for sample in data:\n",
    "        if None not in sample:\n",
    "            new_data.append(sample)\n",
    "    return new_data"
   ]
  },
  {
   "cell_type": "code",
   "execution_count": 11,
   "id": "a26117cd",
   "metadata": {},
   "outputs": [
    {
     "name": "stdout",
     "output_type": "stream",
     "text": [
      "[6, None, 36, 16]\n",
      "[3, 4, 8, 8]\n",
      "[5, 16, 28, 56]\n",
      "[9, 2, 24, 72]\n",
      "[6, None, 16, 0]\n",
      "[8, 6, 24, 48]\n",
      "[2, 2, 4, None]\n",
      "[7, 8, 12, 72]\n",
      "[9, 2, 20, None]\n",
      "[3, 16, 16, 8]\n",
      "\n",
      "[3, 4, 8, 8]\n",
      "[5, 16, 28, 56]\n",
      "[9, 2, 24, 72]\n",
      "[8, 6, 24, 48]\n",
      "[7, 8, 12, 72]\n",
      "[3, 16, 16, 8]\n"
     ]
    }
   ],
   "source": [
    "random.seed(42196)\n",
    "data = generate_missing_data(4, 10)\n",
    "print_data(data)\n",
    "print (\"\")\n",
    "\n",
    "data = omit_missing(data)\n",
    "print_data(data)"
   ]
  },
  {
   "cell_type": "markdown",
   "id": "0649d7f2",
   "metadata": {},
   "source": [
    "Interpolate"
   ]
  },
  {
   "cell_type": "code",
   "execution_count": 16,
   "id": "bc2da9f7",
   "metadata": {},
   "outputs": [],
   "source": [
    "# replace missing data with feature median\n",
    "def interpolate_missing(data):\n",
    "    # find median for each feature\n",
    "    medians = []\n",
    "    for feat in range(len(data[0])):\n",
    "        vals = []\n",
    "        for sample in range(len(data)):\n",
    "            if data[sample][feat] is not None:\n",
    "                vals.append(data[sample][feat])\n",
    "        vals.sort()\n",
    "        medians.append(vals[len(vals)//2])\n",
    "    \n",
    "    # replace missing values with medians\n",
    "    for sample in range(len(data)):\n",
    "        for feat in range(len(data[sample])):\n",
    "            if data[sample][feat] is None:\n",
    "                data[sample][feat] = medians[feat]\n",
    "    \n",
    "    return data"
   ]
  },
  {
   "cell_type": "code",
   "execution_count": 23,
   "id": "bf828081",
   "metadata": {},
   "outputs": [
    {
     "name": "stdout",
     "output_type": "stream",
     "text": [
      "[6, None, 36, 16]\n",
      "[3, 4, 8, 8]\n",
      "[5, 16, 28, 56]\n",
      "[9, 2, 24, 72]\n",
      "[6, None, 16, 0]\n",
      "[8, 6, 24, 48]\n",
      "[2, 2, 4, None]\n",
      "[7, 8, 12, 72]\n",
      "[9, 2, 20, None]\n",
      "[3, 16, 16, 8]\n",
      "\n",
      "[6, 6, 36, 16]\n",
      "[3, 4, 8, 8]\n",
      "[5, 16, 28, 56]\n",
      "[9, 2, 24, 72]\n",
      "[6, 6, 16, 0]\n",
      "[8, 6, 24, 48]\n",
      "[2, 2, 4, 48]\n",
      "[7, 8, 12, 72]\n",
      "[9, 2, 20, 48]\n",
      "[3, 16, 16, 8]\n"
     ]
    }
   ],
   "source": [
    "random.seed(42196)\n",
    "data = generate_missing_data(4, 10)\n",
    "print_data(data)\n",
    "print (\"\")\n",
    "\n",
    "data = interpolate_missing(data)\n",
    "print_data(data)"
   ]
  },
  {
   "cell_type": "markdown",
   "id": "16ce666f",
   "metadata": {},
   "source": [
    "## Outliers"
   ]
  },
  {
   "cell_type": "code",
   "execution_count": 18,
   "id": "a8fd1bb1",
   "metadata": {},
   "outputs": [],
   "source": [
    "from scipy.stats import norm"
   ]
  },
  {
   "cell_type": "code",
   "execution_count": 19,
   "id": "9b054cdc",
   "metadata": {},
   "outputs": [],
   "source": [
    "# using mile time as an example, mean for 22-26 male: 8:45, std. dev. estimate: 1:00\n",
    "def generate_normal_data(num_samples: int) -> list[int]:\n",
    "    mean = 525\n",
    "    std_dev = 60\n",
    "    return [int(mean + std_dev * norm.ppf(random.random())) for _ in range(num_samples)]"
   ]
  },
  {
   "cell_type": "code",
   "execution_count": 24,
   "id": "963a7ca5",
   "metadata": {},
   "outputs": [],
   "source": [
    "def print_mile_times(data):\n",
    "    output = \"\"\n",
    "    for sample in data:\n",
    "        output += f\"{sample//60}:{sample%60:02} \"\n",
    "    print (output)"
   ]
  },
  {
   "cell_type": "code",
   "execution_count": 27,
   "id": "84c9adf0",
   "metadata": {},
   "outputs": [],
   "source": [
    "def remove_outliers(data: list[int]) -> tuple[list[int], list[int]]:\n",
    "    # compute population mean, std dev\n",
    "    mean = sum(data) / len(data)\n",
    "    std_dev = (sum([(x - mean) ** 2 for x in data]) / len(data)) ** 0.5\n",
    "    \n",
    "    # remove +/- 3 st dev\n",
    "    new_data = []\n",
    "    outliers = []\n",
    "    for sample in data:\n",
    "        z_score = (sample - mean) / std_dev\n",
    "        if z_score > 3 or z_score < -3:\n",
    "            outliers.append(sample)\n",
    "        else:\n",
    "            new_data.append(sample)\n",
    "            \n",
    "    return new_data, outliers"
   ]
  },
  {
   "cell_type": "code",
   "execution_count": 28,
   "id": "d6287223",
   "metadata": {},
   "outputs": [
    {
     "name": "stdout",
     "output_type": "stream",
     "text": [
      "8:00 10:32 6:26 8:05 10:57 9:29 7:40 8:34 8:50 9:26 7:47 7:21 9:51 9:48 9:51 9:57 9:46 8:48 7:28 8:51 8:41 10:05 9:11 7:25 8:44 8:27 7:55 8:56 7:51 7:26 7:45 8:06 8:02 9:02 9:23 8:07 9:39 7:53 7:33 8:45 8:34 11:01 9:29 9:33 9:28 9:49 7:28 9:28 7:33 10:38 7:50 8:39 9:47 8:00 8:02 7:49 9:22 8:57 8:05 7:47 8:20 8:07 10:01 7:58 10:53 9:04 11:59 8:27 9:25 7:40 8:40 7:19 8:05 9:02 8:05 7:54 8:36 9:29 10:02 7:56 9:52 9:22 9:40 8:34 8:04 8:34 9:06 8:57 9:30 9:20 6:04 7:32 9:21 6:37 9:07 8:46 10:34 6:43 8:22 8:33 \n",
      "\n",
      "Data:\n",
      "8:00 10:32 6:26 8:05 10:57 9:29 7:40 8:34 8:50 9:26 7:47 7:21 9:51 9:48 9:51 9:57 9:46 8:48 7:28 8:51 8:41 10:05 9:11 7:25 8:44 8:27 7:55 8:56 7:51 7:26 7:45 8:06 8:02 9:02 9:23 8:07 9:39 7:53 7:33 8:45 8:34 11:01 9:29 9:33 9:28 9:49 7:28 9:28 7:33 10:38 7:50 8:39 9:47 8:00 8:02 7:49 9:22 8:57 8:05 7:47 8:20 8:07 10:01 7:58 10:53 9:04 8:27 9:25 7:40 8:40 7:19 8:05 9:02 8:05 7:54 8:36 9:29 10:02 7:56 9:52 9:22 9:40 8:34 8:04 8:34 9:06 8:57 9:30 9:20 6:04 7:32 9:21 6:37 9:07 8:46 10:34 6:43 8:22 8:33 \n",
      "Outliers:\n",
      "11:59 \n"
     ]
    }
   ],
   "source": [
    "random.seed(42196)\n",
    "\n",
    "data = generate_normal_data(100)\n",
    "print_mile_times(data)\n",
    "print (\"\")\n",
    "\n",
    "data, outliers = remove_outliers(data)\n",
    "print (\"Data:\")\n",
    "print_mile_times(data)\n",
    "print (\"Outliers:\")\n",
    "print_mile_times(outliers)"
   ]
  },
  {
   "cell_type": "markdown",
   "id": "6ca60bb7",
   "metadata": {},
   "source": [
    "## Feature Enrichment"
   ]
  },
  {
   "cell_type": "code",
   "execution_count": 51,
   "id": "97e26bc0",
   "metadata": {},
   "outputs": [],
   "source": [
    "# need to think of an example here...\n",
    "# pull dob, job type from id?"
   ]
  },
  {
   "cell_type": "markdown",
   "id": "47551eb0",
   "metadata": {},
   "source": [
    "## Transformations"
   ]
  },
  {
   "cell_type": "code",
   "execution_count": 33,
   "id": "e6759065",
   "metadata": {},
   "outputs": [],
   "source": [
    "# imagine answers to a 5-question multiple choice exam (A, B, C, D)\n",
    "# but filled out in a badly implemented google form (so you have responses 'A', 'a', 'a.')\n",
    "def generate_bad_data() -> list[str]:\n",
    "        return [\n",
    "            \"a b a c\",\n",
    "            \"A A C D\",\n",
    "            \"a. b. c. d.\",\n",
    "            \"a\\nb\\nd\\nc\",\n",
    "            \"A a b. A\",\n",
    "            \"a,c,c,d\"\n",
    "        ]"
   ]
  },
  {
   "cell_type": "code",
   "execution_count": 49,
   "id": "7d62832a",
   "metadata": {},
   "outputs": [],
   "source": [
    "def transform_data(data: list[str]) -> list[list[str]]:\n",
    "    new_data = []\n",
    "    separators = [\" \", \"\\n\", \".\", \",\"]\n",
    "    for answer in data:\n",
    "        sample = answer.lower()\n",
    "        for separator in separators:\n",
    "            if separator in sample:\n",
    "                new_sample = \"\"\n",
    "                for res in sample.split(separator):\n",
    "                    new_sample += res\n",
    "                sample = new_sample\n",
    "        new_data.append(list(sample))\n",
    "    return new_data"
   ]
  },
  {
   "cell_type": "code",
   "execution_count": 50,
   "id": "fa3aa465",
   "metadata": {},
   "outputs": [
    {
     "name": "stdout",
     "output_type": "stream",
     "text": [
      "['a b a c', 'A A C D', 'a. b. c. d.', 'a\\nb\\nd\\nc', 'A a b. A', 'a,c,c,d']\n",
      "\n",
      "[['a', 'b', 'a', 'c'], ['a', 'a', 'c', 'd'], ['a', 'b', 'c', 'd'], ['a', 'b', 'd', 'c'], ['a', 'a', 'b', 'a'], ['a', 'c', 'c', 'd']]\n"
     ]
    }
   ],
   "source": [
    "data = generate_bad_data()\n",
    "print (generate_bad_data())\n",
    "print (\"\")\n",
    "print (transform_data(data))"
   ]
  },
  {
   "cell_type": "code",
   "execution_count": null,
   "id": "ed2d523f",
   "metadata": {},
   "outputs": [],
   "source": []
  }
 ],
 "metadata": {
  "kernelspec": {
   "display_name": "Python 3 (ipykernel)",
   "language": "python",
   "name": "python3"
  },
  "language_info": {
   "codemirror_mode": {
    "name": "ipython",
    "version": 3
   },
   "file_extension": ".py",
   "mimetype": "text/x-python",
   "name": "python",
   "nbconvert_exporter": "python",
   "pygments_lexer": "ipython3",
   "version": "3.9.1"
  }
 },
 "nbformat": 4,
 "nbformat_minor": 5
}
