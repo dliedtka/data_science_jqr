{
 "cells": [
  {
   "cell_type": "markdown",
   "id": "c5c0413b",
   "metadata": {},
   "source": [
    "# Clustering"
   ]
  },
  {
   "cell_type": "markdown",
   "id": "d3b786c7",
   "metadata": {},
   "source": [
    "## K-means"
   ]
  },
  {
   "cell_type": "markdown",
   "id": "f72e1949",
   "metadata": {},
   "source": [
    "Going to generate 5 clusters of points on a 2-D graph, implement k-means, and then try to find a metric to find the best k."
   ]
  },
  {
   "cell_type": "code",
   "execution_count": 3,
   "id": "97906c0b",
   "metadata": {},
   "outputs": [],
   "source": [
    "import numpy as np\n",
    "import matplotlib.pyplot as plt\n",
    "%matplotlib inline"
   ]
  },
  {
   "cell_type": "code",
   "execution_count": 50,
   "id": "2e971748",
   "metadata": {},
   "outputs": [
    {
     "name": "stdout",
     "output_type": "stream",
     "text": [
      "Cluster 0: (4, 6), std dev 6.14\n",
      "Cluster 1: (33, -28), std dev 5.05\n",
      "Cluster 2: (-19, -21), std dev 9.15\n",
      "Cluster 3: (40, 30), std dev 8.45\n",
      "Cluster 4: (-26, 37), std dev 7.68\n"
     ]
    }
   ],
   "source": [
    "import random\n",
    "import numpy as np\n",
    "\n",
    "random.seed(42196)\n",
    "np.random.seed(42196)\n",
    "\n",
    "# 5 clusters, manually selected centers\n",
    "cluster_centers = [\n",
    "    (4,6),\n",
    "    (33,-28),\n",
    "    (-19,-21),\n",
    "    (40,30),\n",
    "    (-26,37),\n",
    "]\n",
    "\n",
    "data = []\n",
    "for i in range(5):\n",
    "    std_dev = random.random() * 5. + 5.\n",
    "    print (f\"Cluster {i}: ({cluster_centers[i][0]}, {cluster_centers[i][1]}), std dev {std_dev:.2f}\")\n",
    "    \n",
    "    # between 10 to 25 samples per cluster\n",
    "    cluster = np.random.normal(0, std_dev, (random.randint(10,25),2))\n",
    "    cluster[:,0] += cluster_centers[i][0]\n",
    "    cluster[:,1] += cluster_centers[i][1]\n",
    "    data.append(cluster)\n",
    "    \n",
    "all_data = data[0]\n",
    "for i in range(1,len(data)):\n",
    "    all_data = np.vstack((all_data, data[i]))"
   ]
  },
  {
   "cell_type": "markdown",
   "id": "8485ca32",
   "metadata": {},
   "source": [
    "Print a true graph of the clusters."
   ]
  },
  {
   "cell_type": "code",
   "execution_count": 51,
   "id": "1d5c3321",
   "metadata": {},
   "outputs": [
    {
     "data": {
      "image/png": "[encoded data removed]",
      "text/plain": [
       "<Figure size 432x288 with 1 Axes>"
      ]
     },
     "metadata": {
      "needs_background": "light"
     },
     "output_type": "display_data"
    }
   ],
   "source": [
    "import matplotlib.pyplot as plt\n",
    "%matplotlib inline\n",
    "\n",
    "plt_colors = \"bgrcmykw\"\n",
    "plt_marks = \"ov^<>s*x\" # this is not all markers, just enough for me to work with\n",
    "\n",
    "#plt.figure(figsize=(10,7)) # 10 is width, 7 is height\n",
    "for i in range(len(data)):\n",
    "    plt.plot(data[i][:,0], data[i][:,1], f\"{plt_colors[i]}.\")\n",
    "plt.title('True Clusters')  \n",
    "plt.xlabel('X')\n",
    "plt.ylabel('Y')\n",
    "plt.xlim(-75, 75)\n",
    "plt.ylim(-75, 75)\n",
    "plt.show()"
   ]
  },
  {
   "cell_type": "markdown",
   "id": "27c5d751",
   "metadata": {},
   "source": [
    "Print all points."
   ]
  },
  {
   "cell_type": "code",
   "execution_count": 52,
   "id": "cdc63fac",
   "metadata": {},
   "outputs": [
    {
     "data": {
      "image/png": "[encoded data removed]",
      "text/plain": [
       "<Figure size 432x288 with 1 Axes>"
      ]
     },
     "metadata": {
      "needs_background": "light"
     },
     "output_type": "display_data"
    }
   ],
   "source": [
    "plt.plot(all_data[:,0], all_data[:,1], f\"r.\")\n",
    "plt.xlabel('X')\n",
    "plt.ylabel('Y')\n",
    "plt.xlim(-75, 75)\n",
    "plt.ylim(-75, 75)\n",
    "plt.show()"
   ]
  },
  {
   "cell_type": "markdown",
   "id": "8d40b30c",
   "metadata": {},
   "source": [
    "My k-means implementation. Just start with knowing there are 5 clusters."
   ]
  },
  {
   "cell_type": "code",
   "execution_count": 84,
   "id": "c2d495d1",
   "metadata": {},
   "outputs": [
    {
     "name": "stdout",
     "output_type": "stream",
     "text": [
      "Ran 11 iterations.\n",
      "[2 2 2 2 2 2 2 2 2 2 2 2 2 2 2 2 2 2 2 2 2 2 0 0 0 0 0 0 0 0 0 0 0 0 0 0 0\n",
      " 0 0 0 1 1 1 1 1 1 1 1 1 1 1 1 1 1 3 3 3 3 3 3 3 3 3 3 3 3 3 3 3 3 4 4 4 4\n",
      " 4 4 4 4 4 4 4 4 4 4 4]\n",
      "[[ 33.76827052 -28.83276784]\n",
      " [-24.94186077 -24.26031858]\n",
      " [  5.10814565   7.88686827]\n",
      " [ 37.58165183  29.37187988]\n",
      " [-24.90677475  37.4340443 ]]\n"
     ]
    }
   ],
   "source": [
    "#np.random.seed(42196)\n",
    "# example of not converging if you use the seed above\n",
    "means = np.random.random((5,2)) * 150. - 75.\n",
    "\n",
    "assignments_prev = None\n",
    "assignments = np.zeros((all_data.shape[0]), dtype=int)\n",
    "\n",
    "# iterate until no changes\n",
    "counter = 0\n",
    "while assignments_prev is None or np.sum(assignments - assignments_prev) != 0:\n",
    "    counter += 1\n",
    "    assignments_prev = np.copy(assignments)\n",
    "    \n",
    "    # compute assignments\n",
    "    for p, point in enumerate(all_data):\n",
    "        closest = None\n",
    "        close_val = None\n",
    "        for i in range(len(means)):\n",
    "            distance = ((point[0] - means[i][0]) ** 2 + (point[1] - means[i][1]) ** 2) ** 0.5\n",
    "            if close_val is None:\n",
    "                close_val = distance\n",
    "                closest = i\n",
    "            elif distance < close_val:\n",
    "                close_val = distance\n",
    "                closest = i\n",
    "        assignments[p] = closest\n",
    "        \n",
    "    # recompute means\n",
    "    counts = np.zeros((5), dtype=float)\n",
    "    sums = np.zeros((5,2), dtype=float)\n",
    "    for i in range(assignments.shape[0]):\n",
    "        sums[assignments[i]] += all_data[i]\n",
    "        counts[assignments[i]] += 1.\n",
    "    for i in range(5):\n",
    "        if counts[i] != 0.:\n",
    "            means[i] = sums[i] / counts[i]\n",
    "            \n",
    "print (f\"Ran {counter} iterations.\")\n",
    "print (assignments)\n",
    "print (means)"
   ]
  },
  {
   "cell_type": "markdown",
   "id": "88d43f11",
   "metadata": {},
   "source": [
    "Graph my results."
   ]
  },
  {
   "cell_type": "code",
   "execution_count": 85,
   "id": "a5ecee8f",
   "metadata": {},
   "outputs": [
    {
     "data": {
      "image/png": "[encoded data removed]",
      "text/plain": [
       "<Figure size 432x288 with 1 Axes>"
      ]
     },
     "metadata": {
      "needs_background": "light"
     },
     "output_type": "display_data"
    }
   ],
   "source": [
    "for i in range(5):\n",
    "    x = []\n",
    "    y = []\n",
    "    for p in range(assignments.shape[0]):\n",
    "        if assignments[p] == i:\n",
    "            x.append(all_data[p][0])\n",
    "            y.append(all_data[p][1])\n",
    "    plt.plot(x, y, f\"{plt_colors[i]}.\")\n",
    "\n",
    "plt.title('K-means Clusters')  \n",
    "plt.xlabel('X')\n",
    "plt.ylabel('Y')\n",
    "plt.xlim(-75, 75)\n",
    "plt.ylim(-75, 75)\n",
    "plt.show()"
   ]
  },
  {
   "cell_type": "markdown",
   "id": "4ed95069",
   "metadata": {},
   "source": [
    "## Expectation Maximization"
   ]
  },
  {
   "cell_type": "markdown",
   "id": "885ec1bd",
   "metadata": {},
   "source": [
    "Recreating the example in this [YouTube lecture](https://youtu.be/iQoXFmbXRJA). Two 1-D clusters, we don't know which points belong to which cluster. Estimate the mean and variance."
   ]
  },
  {
   "cell_type": "code",
   "execution_count": 44,
   "id": "d9adaa97",
   "metadata": {},
   "outputs": [
    {
     "name": "stdout",
     "output_type": "stream",
     "text": [
      "Cluster 1, mu=6.66, sigma=2.58\n",
      "Cluster 2, mu=3.28, sigma=2.01\n"
     ]
    }
   ],
   "source": [
    "np.random.seed(42196)\n",
    "# manually set\n",
    "means = np.random.random(2) * 10.\n",
    "variances = np.random.random(2) * 4. + 4.\n",
    "\n",
    "print (f\"Cluster 1, mu={means[0]:.2f}, sigma={variances[0]**0.5:.2f}\")\n",
    "print (f\"Cluster 2, mu={means[1]:.2f}, sigma={variances[1]**0.5:.2f}\")"
   ]
  },
  {
   "cell_type": "code",
   "execution_count": 45,
   "id": "d4080066",
   "metadata": {},
   "outputs": [
    {
     "data": {
      "image/png": "[encoded data removed]",
      "text/plain": [
       "<Figure size 432x288 with 1 Axes>"
      ]
     },
     "metadata": {
      "needs_background": "light"
     },
     "output_type": "display_data"
    }
   ],
   "source": [
    "np.random.seed(42196)\n",
    "\n",
    "# generate data\n",
    "cluster_1 = np.random.normal(means[0], variances[0]**0.5, (np.random.randint(3,7)))\n",
    "cluster_2 = np.random.normal(means[1], variances[1]**0.5, (np.random.randint(3,7)))\n",
    "\n",
    "# plot\n",
    "plt.plot(cluster_1, np.zeros(cluster_1.shape), \"r.\")\n",
    "plt.plot(cluster_2, np.zeros(cluster_2.shape), \"b.\")\n",
    "plt.title('True Clusters')  \n",
    "plt.xlabel('X')\n",
    "plt.xlim(-2, 12)\n",
    "plt.ylim(-1, 1)\n",
    "plt.yticks((-1,0,1))\n",
    "plt.show()"
   ]
  },
  {
   "cell_type": "code",
   "execution_count": 46,
   "id": "ea4dee6e",
   "metadata": {},
   "outputs": [
    {
     "data": {
      "image/png": "[encoded data removed]",
      "text/plain": [
       "<Figure size 432x288 with 1 Axes>"
      ]
     },
     "metadata": {
      "needs_background": "light"
     },
     "output_type": "display_data"
    }
   ],
   "source": [
    "all_data = np.hstack((cluster_1, cluster_2))\n",
    "# plot\n",
    "plt.plot(all_data, np.zeros(all_data.shape), \"r.\")\n",
    "plt.xlabel('X')\n",
    "plt.xlim(-2, 12)\n",
    "plt.ylim(-1, 1)\n",
    "plt.yticks((-1,0,1))\n",
    "plt.show()"
   ]
  },
  {
   "cell_type": "markdown",
   "id": "9aafe617",
   "metadata": {},
   "source": [
    "Run algorithm."
   ]
  },
  {
   "cell_type": "code",
   "execution_count": 53,
   "id": "3bd44551",
   "metadata": {},
   "outputs": [
    {
     "name": "stdout",
     "output_type": "stream",
     "text": [
      "Ran 100 iterations\n",
      "[[1.00000000e+00 8.11867860e-14]\n",
      " [1.00000000e+00 7.93538097e-22]\n",
      " [6.86783787e-02 9.31321621e-01]\n",
      " [1.00000000e+00 7.03666419e-41]\n",
      " [1.00000000e+00 2.21899411e-37]\n",
      " [1.00000000e+00 2.29143950e-25]\n",
      " [9.99999998e-01 1.93967045e-09]\n",
      " [1.17272033e-02 9.88272797e-01]\n",
      " [9.99919458e-01 8.05416934e-05]]\n",
      "[0 0 1 0 0 0 0 1 0]\n",
      "Cluster 1, mu=6.51, sigma=1.97\n",
      "Cluster 2, mu=0.84, sigma=0.61\n"
     ]
    }
   ],
   "source": [
    "np.random.seed(42196)\n",
    "means = np.random.random(2)\n",
    "variances = np.array((1.,1.))\n",
    "priors = np.array((0.5,0.5))\n",
    "\n",
    "assignments_prev = None\n",
    "assignments = np.zeros((all_data.shape[0]), dtype=int)\n",
    "\n",
    "# iterate until no changes\n",
    "counter = 0\n",
    "# a better way to decide exit condition probably exists:\n",
    "# change in probs is under a certain average amount\n",
    "# no change in assignment for multiple iters\n",
    "#while assignments_prev is None or np.sum(assignments - assignments_prev) != 0:\n",
    "while counter < 100:\n",
    "    counter += 1\n",
    "    assignments_prev = np.copy(assignments)\n",
    "    \n",
    "    # compute assignments\n",
    "    probs = np.zeros((all_data.shape[0], means.shape[0]))\n",
    "    # trying to vectorize, probably would have been more worthwhile to just do it using loops first\n",
    "    # first find P(x_i | cluster)\n",
    "    probs = (2 * np.pi * np.tile(variances, (all_data.shape[0],1))) ** -0.5\n",
    "    probs *= np.exp(-1 * ((np.tile(all_data, (2,1)).T - means.reshape(1,-1)) ** 2) / (2 * variances.reshape(1,-1)))\n",
    "    # now find P(cluster | x_i) using Bayes\n",
    "    probs *= priors.reshape(1,-1)\n",
    "    probs /= np.sum(probs, axis=1).reshape(-1,1)\n",
    "    \n",
    "    # now compute means\n",
    "    means = np.sum(probs * np.tile(all_data, (2,1)).T, axis=0) / np.sum(probs, axis=0)\n",
    "    # now compute variances\n",
    "    variances = np.sum(probs * ((np.tile(all_data, (2,1)).T) - means.reshape(1,-1)) ** 2, axis=0) / np.sum(probs, axis=0)\n",
    "    # now recompute priors\n",
    "    priors = np.sum(probs, axis=0) / all_data.shape[0]\n",
    "    \n",
    "    for i in range(all_data.shape[0]):\n",
    "        assignments[i] = np.argmax(probs[i])\n",
    "        \n",
    "print (f\"Ran {counter} iterations\")\n",
    "print (probs)\n",
    "print (assignments)\n",
    "print (f\"Cluster 1, mu={means[0]:.2f}, sigma={variances[0]**0.5:.2f}\")\n",
    "print (f\"Cluster 2, mu={means[1]:.2f}, sigma={variances[1]**0.5:.2f}\")"
   ]
  },
  {
   "cell_type": "code",
   "execution_count": 54,
   "id": "ca6a1336",
   "metadata": {},
   "outputs": [
    {
     "data": {
      "image/png": "[encoded data removed]",
      "text/plain": [
       "<Figure size 432x288 with 1 Axes>"
      ]
     },
     "metadata": {
      "needs_background": "light"
     },
     "output_type": "display_data"
    }
   ],
   "source": [
    "c1 = []\n",
    "c2 = []\n",
    "for p in range(all_data.shape[0]):\n",
    "    if assignments[p] == c:\n",
    "        c1.append(all_data[p])\n",
    "    else:\n",
    "        c2.append(all_data[p])\n",
    "plt.plot(c1, np.zeros(len(c1)), \"r.\")\n",
    "plt.plot(c2, np.zeros(len(c2)), \"b.\")\n",
    "plt.title('Predicted Clusters')  \n",
    "plt.xlabel('X')\n",
    "plt.xlim(-2, 12)\n",
    "plt.ylim(-1, 1)\n",
    "plt.yticks((-1,0,1))\n",
    "plt.show()"
   ]
  },
  {
   "cell_type": "markdown",
   "id": "a1a62da4",
   "metadata": {},
   "source": [
    "## Gaussian Mixture Models"
   ]
  },
  {
   "cell_type": "markdown",
   "id": "7f680302",
   "metadata": {},
   "source": [
    "Example: Average adult male weight in US, Canada, and Mexico. Create a Gaussian Mixture Model of the average adult male weight in North America."
   ]
  },
  {
   "cell_type": "code",
   "execution_count": 8,
   "id": "01bee162",
   "metadata": {},
   "outputs": [],
   "source": [
    "# rows: Canada, US, Mexico\n",
    "# cols: weight mean, weight std dev, population (assuming adult male population is proportional to total population)\n",
    "# weight in pounds\n",
    "# I made up std dev data\n",
    "# population in millions\n",
    "vals = np.array(\n",
    "    [[187.0, 15.0, 38.25],\n",
    "    [199.7, 12.0, 331.9],\n",
    "    [165.0, 11.0, 130.3],]\n",
    ")"
   ]
  },
  {
   "cell_type": "code",
   "execution_count": 10,
   "id": "e78fbb9d",
   "metadata": {},
   "outputs": [],
   "source": [
    "# compute mixture components\n",
    "vals[:,-1] /= np.sum(vals[:,-1])"
   ]
  },
  {
   "cell_type": "code",
   "execution_count": 24,
   "id": "200aa1ec",
   "metadata": {},
   "outputs": [
    {
     "data": {
      "image/png": "[encoded data removed]",
      "text/plain": [
       "<Figure size 432x288 with 1 Axes>"
      ]
     },
     "metadata": {
      "needs_background": "light"
     },
     "output_type": "display_data"
    },
    {
     "data": {
      "image/png": "[encoded data removed]",
      "text/plain": [
       "<Figure size 432x288 with 1 Axes>"
      ]
     },
     "metadata": {
      "needs_background": "light"
     },
     "output_type": "display_data"
    },
    {
     "data": {
      "image/png": "[encoded data removed]",
      "text/plain": [
       "<Figure size 432x288 with 1 Axes>"
      ]
     },
     "metadata": {
      "needs_background": "light"
     },
     "output_type": "display_data"
    },
    {
     "data": {
      "image/png": "[encoded data removed]",
      "text/plain": [
       "<Figure size 432x288 with 1 Axes>"
      ]
     },
     "metadata": {
      "needs_background": "light"
     },
     "output_type": "display_data"
    }
   ],
   "source": [
    "np.random.seed(42196)\n",
    "\n",
    "data = [[],[],[]]\n",
    "# histogram, 10,000 samples\n",
    "for _ in range(10000):\n",
    "    country = np.random.random()\n",
    "    if country < vals[0][-1]:\n",
    "        country = 0\n",
    "    elif country > 1-vals[-1][-1]:\n",
    "        country = 2\n",
    "    else:\n",
    "        country = 1    \n",
    "    data[country].append(np.random.normal(vals[country][0], vals[country][1]))\n",
    "\n",
    "# canada\n",
    "plt.hist(data[0], bins=100, facecolor=\"r\")\n",
    "plt.title('Canadian Weights')  \n",
    "plt.xlabel('Pounds')\n",
    "plt.xlim(120,260)\n",
    "plt.yticks(())\n",
    "plt.show()\n",
    "\n",
    "# us \n",
    "plt.hist(data[1], bins=100, facecolor=\"b\")\n",
    "plt.title('US Weights')  \n",
    "plt.xlabel('Pounds')\n",
    "plt.xlim(120,260)\n",
    "plt.yticks(())\n",
    "plt.show()\n",
    "\n",
    "# mexico\n",
    "plt.hist(data[2], bins=100, facecolor=\"g\")\n",
    "plt.title('Mexican Weights')  \n",
    "plt.xlabel('Pounds')\n",
    "plt.xlim(120,260)\n",
    "plt.yticks(())\n",
    "plt.show()\n",
    "\n",
    "# north america\n",
    "plt.hist(data[0]+data[1]+data[2], bins=100, facecolor=\"k\")\n",
    "plt.title('North American Weights')  \n",
    "plt.xlabel('Pounds')\n",
    "plt.xlim(120,260)\n",
    "plt.yticks(())\n",
    "plt.show()"
   ]
  },
  {
   "cell_type": "markdown",
   "id": "6fa60042",
   "metadata": {},
   "source": [
    "Percentile for given weights in each distribution."
   ]
  },
  {
   "cell_type": "code",
   "execution_count": 27,
   "id": "82f6040d",
   "metadata": {},
   "outputs": [
    {
     "name": "stdout",
     "output_type": "stream",
     "text": [
      "Weight: 100 pounds, Canada: 0.00%, US: 0.00%, Mexico: 0.00%, North America: 0.00%\n",
      "Weight: 110 pounds, Canada: 0.00%, US: 0.00%, Mexico: 0.00%, North America: 0.00%\n",
      "Weight: 120 pounds, Canada: 0.00%, US: 0.00%, Mexico: 0.00%, North America: 0.00%\n",
      "Weight: 130 pounds, Canada: 0.01%, US: 0.00%, Mexico: 0.07%, North America: 0.02%\n",
      "Weight: 140 pounds, Canada: 0.09%, US: 0.00%, Mexico: 1.15%, North America: 0.31%\n",
      "Weight: 150 pounds, Canada: 0.68%, US: 0.00%, Mexico: 8.63%, North America: 2.30%\n",
      "Weight: 160 pounds, Canada: 3.59%, US: 0.05%, Mexico: 32.47%, North America: 8.76%\n",
      "Weight: 170 pounds, Canada: 12.85%, US: 0.67%, Mexico: 67.53%, North America: 19.01%\n",
      "Weight: 180 pounds, Canada: 32.04%, US: 5.03%, Mexico: 91.37%, North America: 29.58%\n",
      "Weight: 190 pounds, Canada: 57.93%, US: 20.94%, Mexico: 98.85%, North America: 44.05%\n",
      "Weight: 200 pounds, Canada: 80.69%, US: 51.00%, Mexico: 99.93%, North America: 66.01%\n",
      "Weight: 210 pounds, Canada: 93.74%, US: 80.46%, Mexico: 100.00%, North America: 86.57%\n",
      "Weight: 220 pounds, Canada: 98.61%, US: 95.46%, Mexico: 100.00%, North America: 96.89%\n",
      "Weight: 230 pounds, Canada: 99.79%, US: 99.42%, Mexico: 100.00%, North America: 99.60%\n",
      "Weight: 240 pounds, Canada: 99.98%, US: 99.96%, Mexico: 100.00%, North America: 99.97%\n",
      "Weight: 250 pounds, Canada: 100.00%, US: 100.00%, Mexico: 100.00%, North America: 100.00%\n",
      "Weight: 260 pounds, Canada: 100.00%, US: 100.00%, Mexico: 100.00%, North America: 100.00%\n",
      "Weight: 270 pounds, Canada: 100.00%, US: 100.00%, Mexico: 100.00%, North America: 100.00%\n",
      "Weight: 280 pounds, Canada: 100.00%, US: 100.00%, Mexico: 100.00%, North America: 100.00%\n",
      "Weight: 290 pounds, Canada: 100.00%, US: 100.00%, Mexico: 100.00%, North America: 100.00%\n",
      "Weight: 300 pounds, Canada: 100.00%, US: 100.00%, Mexico: 100.00%, North America: 100.00%\n",
      "Weight: 310 pounds, Canada: 100.00%, US: 100.00%, Mexico: 100.00%, North America: 100.00%\n",
      "Weight: 320 pounds, Canada: 100.00%, US: 100.00%, Mexico: 100.00%, North America: 100.00%\n",
      "Weight: 330 pounds, Canada: 100.00%, US: 100.00%, Mexico: 100.00%, North America: 100.00%\n",
      "Weight: 340 pounds, Canada: 100.00%, US: 100.00%, Mexico: 100.00%, North America: 100.00%\n",
      "Weight: 350 pounds, Canada: 100.00%, US: 100.00%, Mexico: 100.00%, North America: 100.00%\n",
      "Weight: 360 pounds, Canada: 100.00%, US: 100.00%, Mexico: 100.00%, North America: 100.00%\n"
     ]
    }
   ],
   "source": [
    "from scipy.stats import norm\n",
    "\n",
    "for weight in range(100, 361, 10):\n",
    "    can = norm.cdf((weight - vals[0][0]) / vals[0][1]) * 100.\n",
    "    us = norm.cdf((weight - vals[1][0]) / vals[1][1]) * 100.\n",
    "    mex = norm.cdf((weight - vals[2][0]) / vals[2][1]) * 100.\n",
    "    na = vals[0][-1] * can + vals[1][-1] * us + vals[2][-1] * mex\n",
    "    \n",
    "    print (f\"Weight: {weight} pounds, Canada: {can:.2f}%, US: {us:.2f}%, Mexico: {mex:.2f}%, North America: {na:.2f}%\")"
   ]
  },
  {
   "cell_type": "markdown",
   "id": "3d12299e",
   "metadata": {},
   "source": [
    "Makes me think that the US probably has a much greater standard deviation."
   ]
  },
  {
   "cell_type": "code",
   "execution_count": null,
   "id": "2d81e263",
   "metadata": {},
   "outputs": [],
   "source": []
  }
 ],
 "metadata": {
  "kernelspec": {
   "display_name": "Python 3 (ipykernel)",
   "language": "python",
   "name": "python3"
  },
  "language_info": {
   "codemirror_mode": {
    "name": "ipython",
    "version": 3
   },
   "file_extension": ".py",
   "mimetype": "text/x-python",
   "name": "python",
   "nbconvert_exporter": "python",
   "pygments_lexer": "ipython3",
   "version": "3.9.1"
  }
 },
 "nbformat": 4,
 "nbformat_minor": 5
}
