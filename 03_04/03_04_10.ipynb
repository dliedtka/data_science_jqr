{
 "cells": [
  {
   "cell_type": "markdown",
   "id": "c5c0413b",
   "metadata": {},
   "source": [
    "# Clustering"
   ]
  },
  {
   "cell_type": "markdown",
   "id": "d3b786c7",
   "metadata": {},
   "source": [
    "## K-means"
   ]
  },
  {
   "cell_type": "markdown",
   "id": "f72e1949",
   "metadata": {},
   "source": [
    "Going to generate 5 clusters of points on a 2-D graph, implement k-means, and then try to find a metric to find the best k."
   ]
  },
  {
   "cell_type": "code",
   "execution_count": 50,
   "id": "2e971748",
   "metadata": {},
   "outputs": [
    {
     "name": "stdout",
     "output_type": "stream",
     "text": [
      "Cluster 0: (4, 6), std dev 6.14\n",
      "Cluster 1: (33, -28), std dev 5.05\n",
      "Cluster 2: (-19, -21), std dev 9.15\n",
      "Cluster 3: (40, 30), std dev 8.45\n",
      "Cluster 4: (-26, 37), std dev 7.68\n"
     ]
    }
   ],
   "source": [
    "import random\n",
    "import numpy as np\n",
    "\n",
    "random.seed(42196)\n",
    "np.random.seed(42196)\n",
    "\n",
    "# 5 clusters, manually selected centers\n",
    "cluster_centers = [\n",
    "    (4,6),\n",
    "    (33,-28),\n",
    "    (-19,-21),\n",
    "    (40,30),\n",
    "    (-26,37),\n",
    "]\n",
    "\n",
    "data = []\n",
    "for i in range(5):\n",
    "    std_dev = random.random() * 5. + 5.\n",
    "    print (f\"Cluster {i}: ({cluster_centers[i][0]}, {cluster_centers[i][1]}), std dev {std_dev:.2f}\")\n",
    "    \n",
    "    # between 10 to 25 samples per cluster\n",
    "    cluster = np.random.normal(0, std_dev, (random.randint(10,25),2))\n",
    "    cluster[:,0] += cluster_centers[i][0]\n",
    "    cluster[:,1] += cluster_centers[i][1]\n",
    "    data.append(cluster)\n",
    "    \n",
    "all_data = data[0]\n",
    "for i in range(1,len(data)):\n",
    "    all_data = np.vstack((all_data, data[i]))"
   ]
  },
  {
   "cell_type": "markdown",
   "id": "8485ca32",
   "metadata": {},
   "source": [
    "Print a true graph of the clusters."
   ]
  },
  {
   "cell_type": "code",
   "execution_count": 51,
   "id": "1d5c3321",
   "metadata": {},
   "outputs": [
    {
     "data": {
      "image/png": "[encoded data removed]",
      "text/plain": [
       "<Figure size 432x288 with 1 Axes>"
      ]
     },
     "metadata": {
      "needs_background": "light"
     },
     "output_type": "display_data"
    }
   ],
   "source": [
    "import matplotlib.pyplot as plt\n",
    "%matplotlib inline\n",
    "\n",
    "plt_colors = \"bgrcmykw\"\n",
    "plt_marks = \"ov^<>s*x\" # this is not all markers, just enough for me to work with\n",
    "\n",
    "#plt.figure(figsize=(10,7)) # 10 is width, 7 is height\n",
    "for i in range(len(data)):\n",
    "    plt.plot(data[i][:,0], data[i][:,1], f\"{plt_colors[i]}.\")\n",
    "plt.title('True Clusters')  \n",
    "plt.xlabel('X')\n",
    "plt.ylabel('Y')\n",
    "plt.xlim(-75, 75)\n",
    "plt.ylim(-75, 75)\n",
    "plt.show()"
   ]
  },
  {
   "cell_type": "markdown",
   "id": "27c5d751",
   "metadata": {},
   "source": [
    "Print all points."
   ]
  },
  {
   "cell_type": "code",
   "execution_count": 52,
   "id": "cdc63fac",
   "metadata": {},
   "outputs": [
    {
     "data": {
      "image/png": "[encoded data removed]",
      "text/plain": [
       "<Figure size 432x288 with 1 Axes>"
      ]
     },
     "metadata": {
      "needs_background": "light"
     },
     "output_type": "display_data"
    }
   ],
   "source": [
    "plt.plot(all_data[:,0], all_data[:,1], f\"r.\")\n",
    "plt.xlabel('X')\n",
    "plt.ylabel('Y')\n",
    "plt.xlim(-75, 75)\n",
    "plt.ylim(-75, 75)\n",
    "plt.show()"
   ]
  },
  {
   "cell_type": "markdown",
   "id": "8d40b30c",
   "metadata": {},
   "source": [
    "My k-means implementation. Just start with knowing there are 5 clusters."
   ]
  },
  {
   "cell_type": "code",
   "execution_count": 84,
   "id": "c2d495d1",
   "metadata": {},
   "outputs": [
    {
     "name": "stdout",
     "output_type": "stream",
     "text": [
      "Ran 11 iterations.\n",
      "[2 2 2 2 2 2 2 2 2 2 2 2 2 2 2 2 2 2 2 2 2 2 0 0 0 0 0 0 0 0 0 0 0 0 0 0 0\n",
      " 0 0 0 1 1 1 1 1 1 1 1 1 1 1 1 1 1 3 3 3 3 3 3 3 3 3 3 3 3 3 3 3 3 4 4 4 4\n",
      " 4 4 4 4 4 4 4 4 4 4 4]\n",
      "[[ 33.76827052 -28.83276784]\n",
      " [-24.94186077 -24.26031858]\n",
      " [  5.10814565   7.88686827]\n",
      " [ 37.58165183  29.37187988]\n",
      " [-24.90677475  37.4340443 ]]\n"
     ]
    }
   ],
   "source": [
    "#np.random.seed(42196)\n",
    "# example of not convering if you use the seed above\n",
    "means = np.random.random((5,2)) * 150. - 75.\n",
    "\n",
    "converged = False\n",
    "assignments_prev = None\n",
    "assignments = np.zeros((all_data.shape[0]), dtype=int)\n",
    "\n",
    "# iterate until no changes\n",
    "counter = 0\n",
    "while assignments_prev is None or np.sum(assignments - assignments_prev) != 0:\n",
    "    counter += 1\n",
    "    assignments_prev = np.copy(assignments)\n",
    "    \n",
    "    # compute assignments\n",
    "    for p, point in enumerate(all_data):\n",
    "        closest = None\n",
    "        close_val = None\n",
    "        for i in range(len(means)):\n",
    "            distance = ((point[0] - means[i][0]) ** 2 + (point[1] - means[i][1]) ** 2) ** 0.5\n",
    "            if close_val is None:\n",
    "                close_val = distance\n",
    "                closest = i\n",
    "            elif distance < close_val:\n",
    "                close_val = distance\n",
    "                closest = i\n",
    "        assignments[p] = closest\n",
    "        \n",
    "    # recompute means\n",
    "    counts = np.zeros((5), dtype=float)\n",
    "    sums = np.zeros((5,2), dtype=float)\n",
    "    for i in range(assignments.shape[0]):\n",
    "        sums[assignments[i]] += all_data[i]\n",
    "        counts[assignments[i]] += 1.\n",
    "    for i in range(5):\n",
    "        if counts[i] != 0.:\n",
    "            means[i] = sums[i] / counts[i]\n",
    "            \n",
    "print (f\"Ran {counter} iterations.\")\n",
    "print (assignments)\n",
    "print (means)"
   ]
  },
  {
   "cell_type": "markdown",
   "id": "88d43f11",
   "metadata": {},
   "source": [
    "Graph my results."
   ]
  },
  {
   "cell_type": "code",
   "execution_count": 85,
   "id": "a5ecee8f",
   "metadata": {},
   "outputs": [
    {
     "data": {
      "image/png": "[encoded data removed]",
      "text/plain": [
       "<Figure size 432x288 with 1 Axes>"
      ]
     },
     "metadata": {
      "needs_background": "light"
     },
     "output_type": "display_data"
    }
   ],
   "source": [
    "for i in range(5):\n",
    "    x = []\n",
    "    y = []\n",
    "    for p in range(assignments.shape[0]):\n",
    "        if assignments[p] == i:\n",
    "            x.append(all_data[p][0])\n",
    "            y.append(all_data[p][1])\n",
    "    plt.plot(x, y, f\"{plt_colors[i]}.\")\n",
    "\n",
    "plt.title('K-means Clusters')  \n",
    "plt.xlabel('X')\n",
    "plt.ylabel('Y')\n",
    "plt.xlim(-75, 75)\n",
    "plt.ylim(-75, 75)\n",
    "plt.show()"
   ]
  },
  {
   "cell_type": "markdown",
   "id": "4ed95069",
   "metadata": {},
   "source": [
    "## Expectation Maximization"
   ]
  },
  {
   "cell_type": "markdown",
   "id": "885ec1bd",
   "metadata": {},
   "source": [
    "Recreating the example in this [YouTube lecture](https://youtu.be/iQoXFmbXRJA). Two 1-D clusters, we don't know which points belong to which cluster. Estimate the mean and variance."
   ]
  },
  {
   "cell_type": "code",
   "execution_count": 101,
   "id": "d9adaa97",
   "metadata": {},
   "outputs": [
    {
     "name": "stdout",
     "output_type": "stream",
     "text": [
      "Cluster 1, mu=6.66, sigma=2.58\n",
      "Cluster 2, mu=3.28, sigma=2.01\n"
     ]
    }
   ],
   "source": [
    "np.random.seed(42196)\n",
    "# manually set\n",
    "means = np.random.random(2) * 10.\n",
    "variances = np.random.random(2) * 4. + 4.\n",
    "\n",
    "print (f\"Cluster 1, mu={means[0]:.2f}, sigma={variances[0]**0.5:.2f}\")\n",
    "print (f\"Cluster 2, mu={means[1]:.2f}, sigma={variances[1]**0.5:.2f}\")"
   ]
  },
  {
   "cell_type": "code",
   "execution_count": 105,
   "id": "d4080066",
   "metadata": {},
   "outputs": [
    {
     "data": {
      "image/png": "[encoded data removed]",
      "text/plain": [
       "<Figure size 432x288 with 1 Axes>"
      ]
     },
     "metadata": {
      "needs_background": "light"
     },
     "output_type": "display_data"
    }
   ],
   "source": [
    "np.random.seed(42196)\n",
    "\n",
    "# generate data\n",
    "cluster_1 = np.random.normal(means[0], variances[0]**0.5, (np.random.randint(3,7)))\n",
    "cluster_2 = np.random.normal(means[1], variances[1]**0.5, (np.random.randint(3,7)))\n",
    "\n",
    "# plot\n",
    "plt.plot(cluster_1, np.zeros(cluster_1.shape), \"r.\")\n",
    "plt.plot(cluster_2, np.zeros(cluster_2.shape), \"b.\")\n",
    "plt.title('True Clusters')  \n",
    "plt.xlabel('X')\n",
    "plt.xlim(-2, 12)\n",
    "plt.ylim(-1, 1)\n",
    "plt.yticks((-1,0,1))\n",
    "plt.show()"
   ]
  },
  {
   "cell_type": "code",
   "execution_count": 106,
   "id": "ea4dee6e",
   "metadata": {},
   "outputs": [
    {
     "data": {
      "image/png": "[encoded data removed]",
      "text/plain": [
       "<Figure size 432x288 with 1 Axes>"
      ]
     },
     "metadata": {
      "needs_background": "light"
     },
     "output_type": "display_data"
    }
   ],
   "source": [
    "all_data = np.hstack((cluster_1, cluster_2))\n",
    "# plot\n",
    "plt.plot(all_data, np.zeros(all_data.shape), \"r.\")\n",
    "plt.xlabel('X')\n",
    "plt.xlim(-2, 12)\n",
    "plt.ylim(-1, 1)\n",
    "plt.yticks((-1,0,1))\n",
    "plt.show()"
   ]
  },
  {
   "cell_type": "markdown",
   "id": "9aafe617",
   "metadata": {},
   "source": [
    "Run algorithm."
   ]
  },
  {
   "cell_type": "code",
   "execution_count": null,
   "id": "3bd44551",
   "metadata": {},
   "outputs": [],
   "source": []
  }
 ],
 "metadata": {
  "kernelspec": {
   "display_name": "Python 3 (ipykernel)",
   "language": "python",
   "name": "python3"
  },
  "language_info": {
   "codemirror_mode": {
    "name": "ipython",
    "version": 3
   },
   "file_extension": ".py",
   "mimetype": "text/x-python",
   "name": "python",
   "nbconvert_exporter": "python",
   "pygments_lexer": "ipython3",
   "version": "3.9.1"
  }
 },
 "nbformat": 4,
 "nbformat_minor": 5
}
