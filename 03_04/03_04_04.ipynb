{
 "cells": [
  {
   "cell_type": "markdown",
   "id": "01b04914",
   "metadata": {},
   "source": [
    "# Encoding Schemes"
   ]
  },
  {
   "cell_type": "markdown",
   "id": "14085cea",
   "metadata": {},
   "source": [
    "### Data Generation"
   ]
  },
  {
   "cell_type": "code",
   "execution_count": 1,
   "id": "acbc85db",
   "metadata": {},
   "outputs": [],
   "source": [
    "import random\n",
    "from scipy.stats import norm"
   ]
  },
  {
   "cell_type": "code",
   "execution_count": 2,
   "id": "5a01efab",
   "metadata": {},
   "outputs": [],
   "source": [
    "# list of pet types, cost at pet store\n",
    "def generate_data_pet_prices(num_samples: int) -> list[tuple[str,int]]:\n",
    "    '''\n",
    "    '''\n",
    "    pets = [\"dog\", \"cat\", \"fish\", \"hamster\"]\n",
    "    price_scales = [100, 50, 5, 10]\n",
    "    data = []\n",
    "    for _ in range(num_samples):\n",
    "        pet_idx = random.randint(0,len(pets)-1)\n",
    "        pet = pets[pet_idx]\n",
    "        price = random.randint(1,10) * price_scales[pet_idx]\n",
    "        data.append((pet, price))\n",
    "    return data"
   ]
  },
  {
   "cell_type": "code",
   "execution_count": 3,
   "id": "5432d96f",
   "metadata": {},
   "outputs": [],
   "source": [
    "# test grades\n",
    "def generate_data_test_scores(num_samples: int) -> list[int]:\n",
    "    '''\n",
    "    '''\n",
    "    mean = 0.76\n",
    "    std_dev = 0.13\n",
    "    \n",
    "    scores = []\n",
    "    for _ in range(num_samples):\n",
    "        # normally distributed scores\n",
    "        score = mean + norm.ppf(random.random()) * std_dev\n",
    "        \n",
    "        # can't be over 100, under 0\n",
    "        if score > 1.:\n",
    "            score = 1.\n",
    "        if score < 0.:\n",
    "            score = 0.\n",
    "        \n",
    "        # round \n",
    "        score = float(int(score * 100)) / 100.\n",
    "        \n",
    "        scores.append(score)\n",
    "    \n",
    "    return scores"
   ]
  },
  {
   "cell_type": "markdown",
   "id": "64e64fe5",
   "metadata": {},
   "source": [
    "## One hot"
   ]
  },
  {
   "cell_type": "markdown",
   "id": "c43895a5",
   "metadata": {},
   "source": [
    "Data we want to encode:"
   ]
  },
  {
   "cell_type": "code",
   "execution_count": 4,
   "id": "ee44db36",
   "metadata": {},
   "outputs": [],
   "source": [
    "def one_hot_encode(data: tuple) -> tuple[tuple[int]]:\n",
    "    '''\n",
    "    @param data Assumes you will input a tuple of only the features you want encoded.\n",
    "    @return A tuple of encodings.\n",
    "    '''\n",
    "    # get all possible values\n",
    "    vals = set()\n",
    "    for sample in data:\n",
    "        if sample not in vals:\n",
    "            vals.add(sample)\n",
    "    vals = list(vals)\n",
    "    \n",
    "    encoded_data = []\n",
    "    # generate encodings\n",
    "    for sample in data:\n",
    "        encoding = []\n",
    "        for val in vals:\n",
    "            encoding.append(1 if sample == val else 0)\n",
    "        encoded_data.append(encoding)\n",
    "    return encoded_data"
   ]
  },
  {
   "cell_type": "code",
   "execution_count": 5,
   "id": "606e5e5c",
   "metadata": {},
   "outputs": [
    {
     "name": "stdout",
     "output_type": "stream",
     "text": [
      "(('cat', 300), ('hamster', 10), ('fish', 50), ('cat', 350), ('cat', 450), ('cat', 100), ('cat', 400), ('dog', 400), ('fish', 45), ('dog', 800))\n",
      "\n",
      "[(0, 0, 1, 0, 300), (0, 1, 0, 0, 10), (0, 0, 0, 1, 50), (0, 0, 1, 0, 350), (0, 0, 1, 0, 450), (0, 0, 1, 0, 100), (0, 0, 1, 0, 400), (1, 0, 0, 0, 400), (0, 0, 0, 1, 45), (1, 0, 0, 0, 800)]\n"
     ]
    }
   ],
   "source": [
    "random.seed(42196)\n",
    "\n",
    "data = tuple(generate_data_pet_prices(10))\n",
    "encoding = one_hot_encode(tuple([sample[0] for sample in data]))\n",
    "encoded_data = [tuple(list(encoding[i]) + [data[i][1]]) for i in range(len(data))]\n",
    "\n",
    "print (data)\n",
    "print (\"\")\n",
    "print (encoded_data)"
   ]
  },
  {
   "cell_type": "markdown",
   "id": "1e19c9f7",
   "metadata": {},
   "source": [
    "## Binarization"
   ]
  },
  {
   "cell_type": "code",
   "execution_count": 6,
   "id": "054e67a1",
   "metadata": {},
   "outputs": [],
   "source": [
    "def binarize(data: list, criteria: callable) -> list[int]:\n",
    "    '''\n",
    "    '''\n",
    "    encoded_data = []\n",
    "    for sample in data:\n",
    "        encoded_data.append(1 if criteria(sample) else 0)\n",
    "    return encoded_data"
   ]
  },
  {
   "cell_type": "code",
   "execution_count": 7,
   "id": "0ed92ac9",
   "metadata": {},
   "outputs": [
    {
     "name": "stdout",
     "output_type": "stream",
     "text": [
      "[0.66, 0.99, 0.45, 0.67, 1.0, 0.85, 0.62, 0.73, 0.77, 0.85, 0.63, 0.57, 0.9, 0.89, 0.9, 0.91, 0.89, 0.76, 0.59, 0.77, 0.75, 0.93, 0.81, 0.58, 0.75, 0.72, 0.65, 0.78, 0.64, 0.59, 0.63, 0.67, 0.66, 0.79, 0.84, 0.67, 0.87, 0.64, 0.6, 0.76, 0.73, 1.0, 0.85, 0.86, 0.85, 0.9, 0.59, 0.85, 0.6, 1.0, 0.64, 0.74, 0.89, 0.66, 0.66, 0.63, 0.84, 0.78, 0.67, 0.63, 0.7, 0.67, 0.92, 0.65, 1.0, 0.8, 1.0, 0.72, 0.84, 0.62, 0.74, 0.57, 0.67, 0.79, 0.67, 0.65, 0.74, 0.85, 0.92, 0.65, 0.9, 0.84, 0.87, 0.73, 0.67, 0.73, 0.8, 0.78, 0.85, 0.83, 0.41, 0.6, 0.83, 0.48, 0.8, 0.76, 0.99, 0.49, 0.71, 0.73]\n",
      "\n",
      "[1, 1, 0, 1, 1, 1, 1, 1, 1, 1, 1, 0, 1, 1, 1, 1, 1, 1, 0, 1, 1, 1, 1, 0, 1, 1, 1, 1, 1, 0, 1, 1, 1, 1, 1, 1, 1, 1, 1, 1, 1, 1, 1, 1, 1, 1, 0, 1, 1, 1, 1, 1, 1, 1, 1, 1, 1, 1, 1, 1, 1, 1, 1, 1, 1, 1, 1, 1, 1, 1, 1, 0, 1, 1, 1, 1, 1, 1, 1, 1, 1, 1, 1, 1, 1, 1, 1, 1, 1, 1, 0, 1, 1, 0, 1, 1, 1, 0, 1, 1]\n"
     ]
    }
   ],
   "source": [
    "# passing is 60%, return pass/fail\n",
    "random.seed(42196)\n",
    "data = generate_data_test_scores(100)\n",
    "encoded_data = binarize(data, lambda x: x >= 0.6)\n",
    "\n",
    "print (data)\n",
    "print (\"\")\n",
    "print (encoded_data)"
   ]
  },
  {
   "cell_type": "markdown",
   "id": "49888048",
   "metadata": {},
   "source": [
    "## Discretization"
   ]
  },
  {
   "cell_type": "code",
   "execution_count": 8,
   "id": "bae19506",
   "metadata": {},
   "outputs": [],
   "source": [
    "def discretize(data: list, criteria: callable) -> list:\n",
    "    '''\n",
    "    '''\n",
    "    discretized_data = []\n",
    "    for sample in data:\n",
    "        discretized_data.append(criteria(sample))\n",
    "    return discretized_data"
   ]
  },
  {
   "cell_type": "code",
   "execution_count": 9,
   "id": "3d71ef30",
   "metadata": {},
   "outputs": [
    {
     "name": "stdout",
     "output_type": "stream",
     "text": [
      "[0.66, 0.99, 0.45, 0.67, 1.0, 0.85, 0.62, 0.73, 0.77, 0.85]\n",
      "\n",
      "['D', 'A', 'F', 'D', 'A', 'B', 'D', 'C', 'C', 'B']\n"
     ]
    }
   ],
   "source": [
    "# break grades into A, B, C, D, F\n",
    "def grades(grade: int) -> str:\n",
    "    if grade >= 0.9:\n",
    "        return \"A\"\n",
    "    elif grade >= 0.8:\n",
    "        return \"B\"\n",
    "    elif grade >= 0.7:\n",
    "        return \"C\"\n",
    "    elif grade >= 0.6:\n",
    "        return \"D\"\n",
    "    else:\n",
    "        return \"F\"\n",
    "    \n",
    "random.seed(42196)\n",
    "data = generate_data_test_scores(10)\n",
    "discretized_data = discretize(data, grades)\n",
    "\n",
    "print (data)\n",
    "print (\"\")\n",
    "print (discretized_data)"
   ]
  },
  {
   "cell_type": "code",
   "execution_count": 10,
   "id": "df1df639",
   "metadata": {},
   "outputs": [
    {
     "name": "stdout",
     "output_type": "stream",
     "text": [
      "[0.66, 0.99, 0.45, 0.67, 1.0, 0.85, 0.62, 0.73, 0.77, 0.85]\n",
      "\n",
      "[1, 4, 0, 1, 4, 3, 1, 2, 2, 3]\n"
     ]
    }
   ],
   "source": [
    "# because there's an ordinal relationship (arguably... larger bucket for F kind of throws things off)\n",
    "# we can put in a more usable format\n",
    "def ordinal_grades(grade: int) -> int:\n",
    "    val = int((grade - 0.5) * 10)\n",
    "    return val if val >= 0 and val <= 4 else (0 if val < 0 else 4)\n",
    "\n",
    "random.seed(42196)\n",
    "data = generate_data_test_scores(10)\n",
    "discretized_data = discretize(data, ordinal_grades)\n",
    "\n",
    "print (data)\n",
    "print (\"\")\n",
    "print (discretized_data)"
   ]
  },
  {
   "cell_type": "code",
   "execution_count": null,
   "id": "3ade5a8b",
   "metadata": {},
   "outputs": [],
   "source": []
  }
 ],
 "metadata": {
  "kernelspec": {
   "display_name": "Python 3 (ipykernel)",
   "language": "python",
   "name": "python3"
  },
  "language_info": {
   "codemirror_mode": {
    "name": "ipython",
    "version": 3
   },
   "file_extension": ".py",
   "mimetype": "text/x-python",
   "name": "python",
   "nbconvert_exporter": "python",
   "pygments_lexer": "ipython3",
   "version": "3.9.1"
  }
 },
 "nbformat": 4,
 "nbformat_minor": 5
}
